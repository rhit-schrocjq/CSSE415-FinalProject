{
 "cells": [
  {
   "cell_type": "code",
   "execution_count": 113,
   "id": "4cf8fcde",
   "metadata": {},
   "outputs": [],
   "source": [
    "import numpy as np\n",
    "import pandas as pd\n",
    "from sklearn.preprocessing import StandardScaler,PolynomialFeatures\n",
    "from sklearn.model_selection import cross_validate, train_test_split\n",
    "from sklearn.linear_model import LinearRegression\n",
    "from sklearn.model_selection import GridSearchCV\n",
    "from sklearn.linear_model import Ridge, RidgeCV, Lasso, LassoCV\n",
    "from sklearn.decomposition import PCA"
   ]
  },
  {
   "cell_type": "code",
   "execution_count": 106,
   "id": "3e6db800",
   "metadata": {},
   "outputs": [],
   "source": [
    "# Get the preprocessed X and y from the data.\n",
    "def get_X_y():\n",
    "    # Read in data.\n",
    "    df = pd.read_csv('data/Boats_Cleaned_dataset.csv')\n",
    "    df = df.fillna(0)\n",
    "\n",
    "    # Delete selected rows with NaN.\n",
    "    df = df.drop(df[df['zip']==0].index)\n",
    "    df = df.drop(df[df['engineCategory']==0].index)\n",
    "    df = df.drop(df[df['beam_ft']==0].index)\n",
    "    df = df.drop(df[df['totalHP']==0].index)\n",
    "\n",
    "    # Delete selected columns with NaN\n",
    "    df = df.drop(['Unnamed: 0','created_date','id','maxEngineYear','minEngineYear','dryWeight_lb','make','model','city','sellerId','zip'],axis=1)\n",
    "\n",
    "    # Define features and target.\n",
    "    X0 = df.drop(['price'], axis=1)\n",
    "    y0 = df.price\n",
    "\n",
    "    # Standardize\n",
    "    X_n = X0.select_dtypes(include='number')\n",
    "    X_c = X0.select_dtypes(exclude='number')\n",
    "    X_n = StandardScaler().set_output(transform='pandas').fit_transform(X_n)\n",
    "\n",
    "    # Hot Encode\n",
    "    X_c = pd.get_dummies(X_c, drop_first = False) #dropped first\n",
    "    df = pd.concat([X_n,X_c,y0],axis=1)\n",
    "\n",
    "    # Redefine features and target\n",
    "    X = df.drop(['price'],axis=1)\n",
    "    y = df.price\n",
    "\n",
    "    return (X, y)"
   ]
  },
  {
   "cell_type": "code",
   "execution_count": 107,
   "id": "afe0814a",
   "metadata": {},
   "outputs": [
    {
     "name": "stdout",
     "output_type": "stream",
     "text": [
      "(5765, 141)\n"
     ]
    }
   ],
   "source": [
    "X, y = get_X_y()\n",
    "print(X.shape)"
   ]
  },
  {
   "cell_type": "code",
   "execution_count": 108,
   "id": "5673eb25",
   "metadata": {},
   "outputs": [
    {
     "data": {
      "text/plain": [
       "Index(['year', 'length_ft', 'beam_ft', 'numEngines', 'totalHP',\n",
       "       'created_month', 'created_year', 'type_power', 'type_sail',\n",
       "       'boatClass_power-aft',\n",
       "       ...\n",
       "       'state_SC', 'state_SD', 'state_TN', 'state_TX', 'state_UT', 'state_VA',\n",
       "       'state_VT', 'state_WA', 'state_WI', 'state_WV'],\n",
       "      dtype='object', length=141)"
      ]
     },
     "execution_count": 108,
     "metadata": {},
     "output_type": "execute_result"
    }
   ],
   "source": [
    "X.columns"
   ]
  },
  {
   "cell_type": "code",
   "execution_count": 109,
   "id": "038a8eab",
   "metadata": {},
   "outputs": [],
   "source": [
    "X_train, X_test, y_train, y_test = train_test_split(X, y, train_size=0.8, test_size=0.2, random_state=0)\n",
    "\n",
    "# standardize features and convert back to dataframe\n",
    "stnd = StandardScaler().set_output(transform='pandas')\n",
    "X_train = stnd.fit_transform(X_train)\n",
    "X_test = stnd.transform(X_test)"
   ]
  },
  {
   "cell_type": "code",
   "execution_count": 123,
   "id": "726b550f",
   "metadata": {
    "scrolled": true
   },
   "outputs": [
    {
     "name": "stdout",
     "output_type": "stream",
     "text": [
      "(4612, 10153)\n"
     ]
    },
    {
     "data": {
      "text/html": [
       "<div>\n",
       "<style scoped>\n",
       "    .dataframe tbody tr th:only-of-type {\n",
       "        vertical-align: middle;\n",
       "    }\n",
       "\n",
       "    .dataframe tbody tr th {\n",
       "        vertical-align: top;\n",
       "    }\n",
       "\n",
       "    .dataframe thead th {\n",
       "        text-align: right;\n",
       "    }\n",
       "</style>\n",
       "<table border=\"1\" class=\"dataframe\">\n",
       "  <thead>\n",
       "    <tr style=\"text-align: right;\">\n",
       "      <th></th>\n",
       "      <th>year</th>\n",
       "      <th>length_ft</th>\n",
       "      <th>beam_ft</th>\n",
       "      <th>numEngines</th>\n",
       "      <th>totalHP</th>\n",
       "      <th>created_month</th>\n",
       "      <th>created_year</th>\n",
       "      <th>type_power</th>\n",
       "      <th>type_sail</th>\n",
       "      <th>boatClass_power-aft</th>\n",
       "      <th>...</th>\n",
       "      <th>state_VT state_WA</th>\n",
       "      <th>state_VT state_WI</th>\n",
       "      <th>state_VT state_WV</th>\n",
       "      <th>state_WA^2</th>\n",
       "      <th>state_WA state_WI</th>\n",
       "      <th>state_WA state_WV</th>\n",
       "      <th>state_WI^2</th>\n",
       "      <th>state_WI state_WV</th>\n",
       "      <th>state_WV^2</th>\n",
       "      <th>bias</th>\n",
       "    </tr>\n",
       "  </thead>\n",
       "  <tbody>\n",
       "    <tr>\n",
       "      <th>0</th>\n",
       "      <td>0.347915</td>\n",
       "      <td>-1.418005</td>\n",
       "      <td>-1.382239</td>\n",
       "      <td>-0.377222</td>\n",
       "      <td>-0.444083</td>\n",
       "      <td>-0.927107</td>\n",
       "      <td>0.675272</td>\n",
       "      <td>0.140275</td>\n",
       "      <td>-0.140275</td>\n",
       "      <td>-0.038988</td>\n",
       "      <td>...</td>\n",
       "      <td>0.080044</td>\n",
       "      <td>0.081728</td>\n",
       "      <td>0.056995</td>\n",
       "      <td>-0.140275</td>\n",
       "      <td>0.232222</td>\n",
       "      <td>0.075235</td>\n",
       "      <td>-0.198598</td>\n",
       "      <td>0.076628</td>\n",
       "      <td>-0.038988</td>\n",
       "      <td>1</td>\n",
       "    </tr>\n",
       "    <tr>\n",
       "      <th>1</th>\n",
       "      <td>0.551439</td>\n",
       "      <td>0.198903</td>\n",
       "      <td>-0.044838</td>\n",
       "      <td>-0.377222</td>\n",
       "      <td>-0.015036</td>\n",
       "      <td>1.487757</td>\n",
       "      <td>0.675272</td>\n",
       "      <td>0.140275</td>\n",
       "      <td>-0.140275</td>\n",
       "      <td>-0.038988</td>\n",
       "      <td>...</td>\n",
       "      <td>-1.993894</td>\n",
       "      <td>0.081728</td>\n",
       "      <td>0.056995</td>\n",
       "      <td>7.128831</td>\n",
       "      <td>-5.784667</td>\n",
       "      <td>-1.874110</td>\n",
       "      <td>-0.198598</td>\n",
       "      <td>0.076628</td>\n",
       "      <td>-0.038988</td>\n",
       "      <td>1</td>\n",
       "    </tr>\n",
       "    <tr>\n",
       "      <th>2</th>\n",
       "      <td>0.449677</td>\n",
       "      <td>-0.372590</td>\n",
       "      <td>-0.044838</td>\n",
       "      <td>-0.377222</td>\n",
       "      <td>-0.472686</td>\n",
       "      <td>-0.323391</td>\n",
       "      <td>0.675272</td>\n",
       "      <td>0.140275</td>\n",
       "      <td>-0.140275</td>\n",
       "      <td>-0.038988</td>\n",
       "      <td>...</td>\n",
       "      <td>0.080044</td>\n",
       "      <td>0.081728</td>\n",
       "      <td>0.056995</td>\n",
       "      <td>-0.140275</td>\n",
       "      <td>0.232222</td>\n",
       "      <td>0.075235</td>\n",
       "      <td>-0.198598</td>\n",
       "      <td>0.076628</td>\n",
       "      <td>-0.038988</td>\n",
       "      <td>1</td>\n",
       "    </tr>\n",
       "    <tr>\n",
       "      <th>3</th>\n",
       "      <td>0.449677</td>\n",
       "      <td>-0.632068</td>\n",
       "      <td>-0.159006</td>\n",
       "      <td>-0.377222</td>\n",
       "      <td>-0.401178</td>\n",
       "      <td>1.185899</td>\n",
       "      <td>-0.443390</td>\n",
       "      <td>0.140275</td>\n",
       "      <td>-0.140275</td>\n",
       "      <td>-0.038988</td>\n",
       "      <td>...</td>\n",
       "      <td>0.080044</td>\n",
       "      <td>-0.995210</td>\n",
       "      <td>0.056995</td>\n",
       "      <td>-0.140275</td>\n",
       "      <td>-2.827796</td>\n",
       "      <td>0.075235</td>\n",
       "      <td>5.035304</td>\n",
       "      <td>-0.933113</td>\n",
       "      <td>-0.038988</td>\n",
       "      <td>1</td>\n",
       "    </tr>\n",
       "    <tr>\n",
       "      <th>4</th>\n",
       "      <td>0.449677</td>\n",
       "      <td>-0.658873</td>\n",
       "      <td>-0.316667</td>\n",
       "      <td>-0.377222</td>\n",
       "      <td>-0.401178</td>\n",
       "      <td>-0.323391</td>\n",
       "      <td>0.675272</td>\n",
       "      <td>0.140275</td>\n",
       "      <td>-0.140275</td>\n",
       "      <td>-0.038988</td>\n",
       "      <td>...</td>\n",
       "      <td>0.080044</td>\n",
       "      <td>0.081728</td>\n",
       "      <td>0.056995</td>\n",
       "      <td>-0.140275</td>\n",
       "      <td>0.232222</td>\n",
       "      <td>0.075235</td>\n",
       "      <td>-0.198598</td>\n",
       "      <td>0.076628</td>\n",
       "      <td>-0.038988</td>\n",
       "      <td>1</td>\n",
       "    </tr>\n",
       "  </tbody>\n",
       "</table>\n",
       "<p>5 rows × 10153 columns</p>\n",
       "</div>"
      ],
      "text/plain": [
       "       year  length_ft   beam_ft  numEngines   totalHP  created_month  \\\n",
       "0  0.347915  -1.418005 -1.382239   -0.377222 -0.444083      -0.927107   \n",
       "1  0.551439   0.198903 -0.044838   -0.377222 -0.015036       1.487757   \n",
       "2  0.449677  -0.372590 -0.044838   -0.377222 -0.472686      -0.323391   \n",
       "3  0.449677  -0.632068 -0.159006   -0.377222 -0.401178       1.185899   \n",
       "4  0.449677  -0.658873 -0.316667   -0.377222 -0.401178      -0.323391   \n",
       "\n",
       "   created_year  type_power  type_sail  boatClass_power-aft  ...  \\\n",
       "0      0.675272    0.140275  -0.140275            -0.038988  ...   \n",
       "1      0.675272    0.140275  -0.140275            -0.038988  ...   \n",
       "2      0.675272    0.140275  -0.140275            -0.038988  ...   \n",
       "3     -0.443390    0.140275  -0.140275            -0.038988  ...   \n",
       "4      0.675272    0.140275  -0.140275            -0.038988  ...   \n",
       "\n",
       "   state_VT state_WA  state_VT state_WI  state_VT state_WV  state_WA^2  \\\n",
       "0           0.080044           0.081728           0.056995   -0.140275   \n",
       "1          -1.993894           0.081728           0.056995    7.128831   \n",
       "2           0.080044           0.081728           0.056995   -0.140275   \n",
       "3           0.080044          -0.995210           0.056995   -0.140275   \n",
       "4           0.080044           0.081728           0.056995   -0.140275   \n",
       "\n",
       "   state_WA state_WI  state_WA state_WV  state_WI^2  state_WI state_WV  \\\n",
       "0           0.232222           0.075235   -0.198598           0.076628   \n",
       "1          -5.784667          -1.874110   -0.198598           0.076628   \n",
       "2           0.232222           0.075235   -0.198598           0.076628   \n",
       "3          -2.827796           0.075235    5.035304          -0.933113   \n",
       "4           0.232222           0.075235   -0.198598           0.076628   \n",
       "\n",
       "   state_WV^2  bias  \n",
       "0   -0.038988     1  \n",
       "1   -0.038988     1  \n",
       "2   -0.038988     1  \n",
       "3   -0.038988     1  \n",
       "4   -0.038988     1  \n",
       "\n",
       "[5 rows x 10153 columns]"
      ]
     },
     "execution_count": 123,
     "metadata": {},
     "output_type": "execute_result"
    }
   ],
   "source": [
    "stnd = StandardScaler().set_output(transform='pandas')\n",
    "\n",
    "poly = PolynomialFeatures(2,interaction_only=False,include_bias=False)\n",
    "Xe_train = poly.fit_transform(X_train)\n",
    "cols = poly.get_feature_names_out(X_train.columns)\n",
    "Xe_train = pd.DataFrame(Xe_train, columns=cols)\n",
    "Xe_train = stnd.fit_transform(Xe_train)\n",
    "Xe_train['bias'] = 1\n",
    "print(Xe_train.shape)\n",
    "Xe_train.head()\n",
    "\n",
    "Xe_test = poly.fit_transform(X_test)\n",
    "cols = poly.get_feature_names_out(X_test.columns)\n",
    "Xe_test = pd.DataFrame(Xe_test, columns=cols)\n",
    "Xe_test = stnd.transform(Xe_test)\n",
    "Xe_test['bias'] = 1\n",
    "Xe_test.head()"
   ]
  },
  {
   "cell_type": "code",
   "execution_count": 130,
   "id": "25734e9d",
   "metadata": {},
   "outputs": [
    {
     "name": "stderr",
     "output_type": "stream",
     "text": [
      "C:\\Users\\schrocjq\\AppData\\Local\\anaconda3\\Lib\\site-packages\\sklearn\\linear_model\\_coordinate_descent.py:631: ConvergenceWarning: Objective did not converge. You might want to increase the number of iterations, check the scale of the features or consider increasing regularisation. Duality gap: 1.680e+12, tolerance: 1.550e+10\n",
      "  model = cd_fast.enet_coordinate_descent(\n",
      "C:\\Users\\schrocjq\\AppData\\Local\\anaconda3\\Lib\\site-packages\\sklearn\\linear_model\\_coordinate_descent.py:631: ConvergenceWarning: Objective did not converge. You might want to increase the number of iterations, check the scale of the features or consider increasing regularisation. Duality gap: 1.589e+12, tolerance: 1.739e+10\n",
      "  model = cd_fast.enet_coordinate_descent(\n",
      "C:\\Users\\schrocjq\\AppData\\Local\\anaconda3\\Lib\\site-packages\\sklearn\\linear_model\\_coordinate_descent.py:631: ConvergenceWarning: Objective did not converge. You might want to increase the number of iterations, check the scale of the features or consider increasing regularisation. Duality gap: 6.197e+11, tolerance: 1.434e+10\n",
      "  model = cd_fast.enet_coordinate_descent(\n",
      "C:\\Users\\schrocjq\\AppData\\Local\\anaconda3\\Lib\\site-packages\\sklearn\\linear_model\\_coordinate_descent.py:631: ConvergenceWarning: Objective did not converge. You might want to increase the number of iterations, check the scale of the features or consider increasing regularisation. Duality gap: 1.576e+12, tolerance: 1.607e+10\n",
      "  model = cd_fast.enet_coordinate_descent(\n",
      "C:\\Users\\schrocjq\\AppData\\Local\\anaconda3\\Lib\\site-packages\\sklearn\\linear_model\\_coordinate_descent.py:631: ConvergenceWarning: Objective did not converge. You might want to increase the number of iterations, check the scale of the features or consider increasing regularisation. Duality gap: 1.185e+12, tolerance: 1.283e+10\n",
      "  model = cd_fast.enet_coordinate_descent(\n",
      "C:\\Users\\schrocjq\\AppData\\Local\\anaconda3\\Lib\\site-packages\\sklearn\\linear_model\\_coordinate_descent.py:631: ConvergenceWarning: Objective did not converge. You might want to increase the number of iterations, check the scale of the features or consider increasing regularisation. Duality gap: 1.691e+12, tolerance: 1.550e+10\n",
      "  model = cd_fast.enet_coordinate_descent(\n",
      "C:\\Users\\schrocjq\\AppData\\Local\\anaconda3\\Lib\\site-packages\\sklearn\\linear_model\\_coordinate_descent.py:631: ConvergenceWarning: Objective did not converge. You might want to increase the number of iterations, check the scale of the features or consider increasing regularisation. Duality gap: 1.598e+12, tolerance: 1.739e+10\n",
      "  model = cd_fast.enet_coordinate_descent(\n",
      "C:\\Users\\schrocjq\\AppData\\Local\\anaconda3\\Lib\\site-packages\\sklearn\\linear_model\\_coordinate_descent.py:631: ConvergenceWarning: Objective did not converge. You might want to increase the number of iterations, check the scale of the features or consider increasing regularisation. Duality gap: 6.234e+11, tolerance: 1.434e+10\n",
      "  model = cd_fast.enet_coordinate_descent(\n",
      "C:\\Users\\schrocjq\\AppData\\Local\\anaconda3\\Lib\\site-packages\\sklearn\\linear_model\\_coordinate_descent.py:631: ConvergenceWarning: Objective did not converge. You might want to increase the number of iterations, check the scale of the features or consider increasing regularisation. Duality gap: 1.579e+12, tolerance: 1.607e+10\n",
      "  model = cd_fast.enet_coordinate_descent(\n",
      "C:\\Users\\schrocjq\\AppData\\Local\\anaconda3\\Lib\\site-packages\\sklearn\\linear_model\\_coordinate_descent.py:631: ConvergenceWarning: Objective did not converge. You might want to increase the number of iterations, check the scale of the features or consider increasing regularisation. Duality gap: 1.189e+12, tolerance: 1.283e+10\n",
      "  model = cd_fast.enet_coordinate_descent(\n",
      "C:\\Users\\schrocjq\\AppData\\Local\\anaconda3\\Lib\\site-packages\\sklearn\\linear_model\\_coordinate_descent.py:631: ConvergenceWarning: Objective did not converge. You might want to increase the number of iterations, check the scale of the features or consider increasing regularisation. Duality gap: 1.716e+12, tolerance: 1.550e+10\n",
      "  model = cd_fast.enet_coordinate_descent(\n",
      "C:\\Users\\schrocjq\\AppData\\Local\\anaconda3\\Lib\\site-packages\\sklearn\\linear_model\\_coordinate_descent.py:631: ConvergenceWarning: Objective did not converge. You might want to increase the number of iterations, check the scale of the features or consider increasing regularisation. Duality gap: 1.636e+12, tolerance: 1.739e+10\n",
      "  model = cd_fast.enet_coordinate_descent(\n",
      "C:\\Users\\schrocjq\\AppData\\Local\\anaconda3\\Lib\\site-packages\\sklearn\\linear_model\\_coordinate_descent.py:631: ConvergenceWarning: Objective did not converge. You might want to increase the number of iterations, check the scale of the features or consider increasing regularisation. Duality gap: 6.371e+11, tolerance: 1.434e+10\n",
      "  model = cd_fast.enet_coordinate_descent(\n",
      "C:\\Users\\schrocjq\\AppData\\Local\\anaconda3\\Lib\\site-packages\\sklearn\\linear_model\\_coordinate_descent.py:631: ConvergenceWarning: Objective did not converge. You might want to increase the number of iterations, check the scale of the features or consider increasing regularisation. Duality gap: 1.599e+12, tolerance: 1.607e+10\n",
      "  model = cd_fast.enet_coordinate_descent(\n",
      "C:\\Users\\schrocjq\\AppData\\Local\\anaconda3\\Lib\\site-packages\\sklearn\\linear_model\\_coordinate_descent.py:631: ConvergenceWarning: Objective did not converge. You might want to increase the number of iterations, check the scale of the features or consider increasing regularisation. Duality gap: 1.199e+12, tolerance: 1.283e+10\n",
      "  model = cd_fast.enet_coordinate_descent(\n",
      "C:\\Users\\schrocjq\\AppData\\Local\\anaconda3\\Lib\\site-packages\\sklearn\\linear_model\\_coordinate_descent.py:631: ConvergenceWarning: Objective did not converge. You might want to increase the number of iterations, check the scale of the features or consider increasing regularisation. Duality gap: 1.731e+12, tolerance: 1.550e+10\n",
      "  model = cd_fast.enet_coordinate_descent(\n",
      "C:\\Users\\schrocjq\\AppData\\Local\\anaconda3\\Lib\\site-packages\\sklearn\\linear_model\\_coordinate_descent.py:631: ConvergenceWarning: Objective did not converge. You might want to increase the number of iterations, check the scale of the features or consider increasing regularisation. Duality gap: 1.684e+12, tolerance: 1.739e+10\n",
      "  model = cd_fast.enet_coordinate_descent(\n",
      "C:\\Users\\schrocjq\\AppData\\Local\\anaconda3\\Lib\\site-packages\\sklearn\\linear_model\\_coordinate_descent.py:631: ConvergenceWarning: Objective did not converge. You might want to increase the number of iterations, check the scale of the features or consider increasing regularisation. Duality gap: 6.616e+11, tolerance: 1.434e+10\n",
      "  model = cd_fast.enet_coordinate_descent(\n",
      "C:\\Users\\schrocjq\\AppData\\Local\\anaconda3\\Lib\\site-packages\\sklearn\\linear_model\\_coordinate_descent.py:631: ConvergenceWarning: Objective did not converge. You might want to increase the number of iterations, check the scale of the features or consider increasing regularisation. Duality gap: 1.664e+12, tolerance: 1.607e+10\n",
      "  model = cd_fast.enet_coordinate_descent(\n",
      "C:\\Users\\schrocjq\\AppData\\Local\\anaconda3\\Lib\\site-packages\\sklearn\\linear_model\\_coordinate_descent.py:631: ConvergenceWarning: Objective did not converge. You might want to increase the number of iterations, check the scale of the features or consider increasing regularisation. Duality gap: 1.146e+12, tolerance: 1.283e+10\n",
      "  model = cd_fast.enet_coordinate_descent(\n",
      "C:\\Users\\schrocjq\\AppData\\Local\\anaconda3\\Lib\\site-packages\\sklearn\\linear_model\\_coordinate_descent.py:631: ConvergenceWarning: Objective did not converge. You might want to increase the number of iterations, check the scale of the features or consider increasing regularisation. Duality gap: 5.108e+11, tolerance: 1.550e+10\n",
      "  model = cd_fast.enet_coordinate_descent(\n",
      "C:\\Users\\schrocjq\\AppData\\Local\\anaconda3\\Lib\\site-packages\\sklearn\\linear_model\\_coordinate_descent.py:631: ConvergenceWarning: Objective did not converge. You might want to increase the number of iterations, check the scale of the features or consider increasing regularisation. Duality gap: 6.316e+11, tolerance: 1.739e+10\n",
      "  model = cd_fast.enet_coordinate_descent(\n",
      "C:\\Users\\schrocjq\\AppData\\Local\\anaconda3\\Lib\\site-packages\\sklearn\\linear_model\\_coordinate_descent.py:631: ConvergenceWarning: Objective did not converge. You might want to increase the number of iterations, check the scale of the features or consider increasing regularisation. Duality gap: 2.867e+11, tolerance: 1.434e+10\n",
      "  model = cd_fast.enet_coordinate_descent(\n"
     ]
    },
    {
     "name": "stderr",
     "output_type": "stream",
     "text": [
      "C:\\Users\\schrocjq\\AppData\\Local\\anaconda3\\Lib\\site-packages\\sklearn\\linear_model\\_coordinate_descent.py:631: ConvergenceWarning: Objective did not converge. You might want to increase the number of iterations, check the scale of the features or consider increasing regularisation. Duality gap: 3.514e+11, tolerance: 1.607e+10\n",
      "  model = cd_fast.enet_coordinate_descent(\n",
      "C:\\Users\\schrocjq\\AppData\\Local\\anaconda3\\Lib\\site-packages\\sklearn\\linear_model\\_coordinate_descent.py:631: ConvergenceWarning: Objective did not converge. You might want to increase the number of iterations, check the scale of the features or consider increasing regularisation. Duality gap: 4.667e+11, tolerance: 1.283e+10\n",
      "  model = cd_fast.enet_coordinate_descent(\n",
      "C:\\Users\\schrocjq\\AppData\\Local\\anaconda3\\Lib\\site-packages\\sklearn\\linear_model\\_coordinate_descent.py:631: ConvergenceWarning: Objective did not converge. You might want to increase the number of iterations, check the scale of the features or consider increasing regularisation. Duality gap: 4.972e+10, tolerance: 1.607e+10\n",
      "  model = cd_fast.enet_coordinate_descent(\n"
     ]
    },
    {
     "name": "stdout",
     "output_type": "stream",
     "text": [
      "\n",
      "best alpha = {'alpha': 1000}   valid R2 = 0.802\n"
     ]
    }
   ],
   "source": [
    "# regularize\n",
    "grid = {'alpha':[0.01,0.1,1,10,100,1000,10000]}\n",
    "lasso = Lasso()\n",
    "lassoCV = GridSearchCV(lasso,param_grid=grid,return_train_score=True)\n",
    "lassoCV.fit(Xe_train,y_train)\n",
    "\n",
    "print()\n",
    "print('best alpha =',lassoCV.best_params_, '  valid R2 =',lassoCV.best_score_.round(3))"
   ]
  },
  {
   "cell_type": "code",
   "execution_count": 131,
   "id": "347c42f0",
   "metadata": {
    "scrolled": true
   },
   "outputs": [
    {
     "data": {
      "text/plain": [
       "fuelType_0 fuelType_diesel               -15351.593237\n",
       "length_ft hullMaterial_aluminum          -12373.021992\n",
       "condition_new fuelType_0                 -11767.932420\n",
       "totalHP boatClass_power-expresscruiser   -10971.743144\n",
       "created_year boatClass_power-mega        -10785.656188\n",
       "                                              ...     \n",
       "length_ft                                 38787.254807\n",
       "fuelType_diesel                           40104.775233\n",
       "totalHP                                   45243.649305\n",
       "condition_new fuelType_diesel             58828.323221\n",
       "year totalHP                              77622.406496\n",
       "Length: 10153, dtype: float64"
      ]
     },
     "execution_count": 131,
     "metadata": {},
     "output_type": "execute_result"
    },
    {
     "data": {
      "image/png": "[encoded data removed]",
      "text/plain": [
       "<Figure size 640x480 with 1 Axes>"
      ]
     },
     "metadata": {},
     "output_type": "display_data"
    }
   ],
   "source": [
    "results = pd.DataFrame()\n",
    "results['alpha'] = np.log10(grid['alpha'])\n",
    "results['train R2'] = lassoCV.cv_results_['mean_train_score']\n",
    "results['valid R2']  = lassoCV.cv_results_['mean_test_score']\n",
    "ax1 = results.plot.line(x='alpha',y='train R2')\n",
    "results.plot.line(x='alpha',y='valid R2',ax=ax1)\n",
    "\n",
    "lasso = lassoCV.best_estimator_\n",
    "coef = pd.Series(lasso.coef_,index=Xe_train.columns)\n",
    "coef.sort_values()"
   ]
  },
  {
   "cell_type": "code",
   "execution_count": 133,
   "id": "13311f97",
   "metadata": {},
   "outputs": [
    {
     "name": "stdout",
     "output_type": "stream",
     "text": [
      "Test R2:  0.8433002862982288\n"
     ]
    }
   ],
   "source": [
    "print('Test R2: ', lassoCV.score(Xe_test,y_test))"
   ]
  }
 ],
 "metadata": {
  "kernelspec": {
   "display_name": "Python 3 (ipykernel)",
   "language": "python",
   "name": "python3"
  },
  "language_info": {
   "codemirror_mode": {
    "name": "ipython",
    "version": 3
   },
   "file_extension": ".py",
   "mimetype": "text/x-python",
   "name": "python",
   "nbconvert_exporter": "python",
   "pygments_lexer": "ipython3",
   "version": "3.11.7"
  }
 },
 "nbformat": 4,
 "nbformat_minor": 5
}
