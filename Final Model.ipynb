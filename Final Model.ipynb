{
 "cells": [
  {
   "cell_type": "markdown",
   "id": "207b2b99",
   "metadata": {},
   "source": [
    "# Import Libraries"
   ]
  },
  {
   "cell_type": "code",
   "execution_count": 8,
   "id": "d106f55c",
   "metadata": {},
   "outputs": [],
   "source": [
    "import numpy as np\n",
    "import pandas as pd\n",
    "from sklearn.preprocessing import StandardScaler,PolynomialFeatures\n",
    "from sklearn.model_selection import cross_validate, train_test_split\n",
    "from sklearn.linear_model import LinearRegression\n",
    "from sklearn.model_selection import GridSearchCV\n",
    "from sklearn.linear_model import Ridge, RidgeCV, Lasso, LassoCV\n",
    "from sklearn.ensemble import RandomForestRegressor\n",
    "from sklearn.decomposition import PCA"
   ]
  },
  {
   "cell_type": "markdown",
   "id": "a25ea277",
   "metadata": {},
   "source": [
    "# Preprocess"
   ]
  },
  {
   "cell_type": "code",
   "execution_count": 9,
   "id": "ded2112c",
   "metadata": {},
   "outputs": [],
   "source": [
    "# Get the preprocessed X and y from the data.\n",
    "def get_X_y():\n",
    "    # Read in data.\n",
    "    df = pd.read_csv('data/Boats_Cleaned_dataset.csv')\n",
    "    df = df.fillna(0)\n",
    "\n",
    "    # Delete selected rows with NaN.\n",
    "    df = df[pd.to_numeric(df['zip'], errors='coerce').notnull()]\n",
    "    df['zip'] = df['zip'].astype(int)\n",
    "    df = df.drop(df[df['zip']==0].index)\n",
    "    df = df.drop(df[df['engineCategory']==0].index)\n",
    "    df = df.drop(df[df['beam_ft']==0].index)\n",
    "    df = df.drop(df[df['totalHP']==0].index)\n",
    "\n",
    "    # Delete selected columns with NaN\n",
    "    df = df.drop(['Unnamed: 0','created_date','id','maxEngineYear','minEngineYear','dryWeight_lb', 'make', 'model','city','sellerId'],axis=1)\n",
    "\n",
    "    # Define features and target.\n",
    "    X0 = df.drop(['price'], axis=1)\n",
    "    y0 = df.price\n",
    "\n",
    "    # Standardize\n",
    "    X_n = X0.select_dtypes(include='number')\n",
    "    X_c = X0.select_dtypes(exclude='number')\n",
    "    X_n = StandardScaler().set_output(transform='pandas').fit_transform(X_n)\n",
    "\n",
    "    # Hot Encode\n",
    "    X_c = pd.get_dummies(X_c, drop_first = False) #dropped first\n",
    "    df = pd.concat([X_n,X_c,y0],axis=1)\n",
    "\n",
    "    # Redefine features and target\n",
    "    X = df.drop(['price'],axis=1)\n",
    "    y = df.price\n",
    "\n",
    "    return (X, y)"
   ]
  },
  {
   "cell_type": "code",
   "execution_count": 10,
   "id": "ae2c4be0",
   "metadata": {},
   "outputs": [
    {
     "name": "stdout",
     "output_type": "stream",
     "text": [
      "(5752, 142)\n"
     ]
    }
   ],
   "source": [
    "X, y = get_X_y()\n",
    "print(X.shape)"
   ]
  },
  {
   "cell_type": "markdown",
   "id": "971e686c",
   "metadata": {},
   "source": [
    "# Train Test Split"
   ]
  },
  {
   "cell_type": "code",
   "execution_count": 11,
   "id": "949e1850",
   "metadata": {},
   "outputs": [],
   "source": [
    "X_train, X_test, y_train, y_test = train_test_split(X, y, train_size=0.8, test_size=0.2, random_state=0)"
   ]
  },
  {
   "cell_type": "markdown",
   "id": "d3dc1c68",
   "metadata": {},
   "source": [
    "# Feature Engineer, d=2"
   ]
  },
  {
   "cell_type": "code",
   "execution_count": 12,
   "id": "3ecc3719",
   "metadata": {},
   "outputs": [
    {
     "name": "stdout",
     "output_type": "stream",
     "text": [
      "(4601, 10296)\n"
     ]
    },
    {
     "data": {
      "text/html": [
       "<div>\n",
       "<style scoped>\n",
       "    .dataframe tbody tr th:only-of-type {\n",
       "        vertical-align: middle;\n",
       "    }\n",
       "\n",
       "    .dataframe tbody tr th {\n",
       "        vertical-align: top;\n",
       "    }\n",
       "\n",
       "    .dataframe thead th {\n",
       "        text-align: right;\n",
       "    }\n",
       "</style>\n",
       "<table border=\"1\" class=\"dataframe\">\n",
       "  <thead>\n",
       "    <tr style=\"text-align: right;\">\n",
       "      <th></th>\n",
       "      <th>year</th>\n",
       "      <th>length_ft</th>\n",
       "      <th>beam_ft</th>\n",
       "      <th>numEngines</th>\n",
       "      <th>totalHP</th>\n",
       "      <th>zip</th>\n",
       "      <th>created_month</th>\n",
       "      <th>created_year</th>\n",
       "      <th>type_power</th>\n",
       "      <th>type_sail</th>\n",
       "      <th>...</th>\n",
       "      <th>state_VT state_WA</th>\n",
       "      <th>state_VT state_WI</th>\n",
       "      <th>state_VT state_WV</th>\n",
       "      <th>state_WA^2</th>\n",
       "      <th>state_WA state_WI</th>\n",
       "      <th>state_WA state_WV</th>\n",
       "      <th>state_WI^2</th>\n",
       "      <th>state_WI state_WV</th>\n",
       "      <th>state_WV^2</th>\n",
       "      <th>bias</th>\n",
       "    </tr>\n",
       "  </thead>\n",
       "  <tbody>\n",
       "    <tr>\n",
       "      <th>0</th>\n",
       "      <td>0.459450</td>\n",
       "      <td>0.367392</td>\n",
       "      <td>-0.046988</td>\n",
       "      <td>-0.384248</td>\n",
       "      <td>-0.022364</td>\n",
       "      <td>0.016842</td>\n",
       "      <td>-0.624789</td>\n",
       "      <td>0.669243</td>\n",
       "      <td>1.0</td>\n",
       "      <td>0.0</td>\n",
       "      <td>...</td>\n",
       "      <td>0.0</td>\n",
       "      <td>0.0</td>\n",
       "      <td>0.0</td>\n",
       "      <td>0.0</td>\n",
       "      <td>0.0</td>\n",
       "      <td>0.0</td>\n",
       "      <td>0.0</td>\n",
       "      <td>0.0</td>\n",
       "      <td>0.0</td>\n",
       "      <td>1</td>\n",
       "    </tr>\n",
       "    <tr>\n",
       "      <th>1</th>\n",
       "      <td>0.050196</td>\n",
       "      <td>-0.588427</td>\n",
       "      <td>-0.278693</td>\n",
       "      <td>-0.384248</td>\n",
       "      <td>-0.349689</td>\n",
       "      <td>-1.443551</td>\n",
       "      <td>1.187661</td>\n",
       "      <td>-0.442682</td>\n",
       "      <td>1.0</td>\n",
       "      <td>0.0</td>\n",
       "      <td>...</td>\n",
       "      <td>0.0</td>\n",
       "      <td>0.0</td>\n",
       "      <td>0.0</td>\n",
       "      <td>0.0</td>\n",
       "      <td>0.0</td>\n",
       "      <td>0.0</td>\n",
       "      <td>0.0</td>\n",
       "      <td>0.0</td>\n",
       "      <td>0.0</td>\n",
       "      <td>1</td>\n",
       "    </tr>\n",
       "    <tr>\n",
       "      <th>2</th>\n",
       "      <td>0.357137</td>\n",
       "      <td>-0.800832</td>\n",
       "      <td>-0.697436</td>\n",
       "      <td>-0.384248</td>\n",
       "      <td>-0.677015</td>\n",
       "      <td>-1.698533</td>\n",
       "      <td>0.885586</td>\n",
       "      <td>-1.554608</td>\n",
       "      <td>1.0</td>\n",
       "      <td>0.0</td>\n",
       "      <td>...</td>\n",
       "      <td>0.0</td>\n",
       "      <td>0.0</td>\n",
       "      <td>0.0</td>\n",
       "      <td>0.0</td>\n",
       "      <td>0.0</td>\n",
       "      <td>0.0</td>\n",
       "      <td>0.0</td>\n",
       "      <td>0.0</td>\n",
       "      <td>0.0</td>\n",
       "      <td>1</td>\n",
       "    </tr>\n",
       "    <tr>\n",
       "      <th>3</th>\n",
       "      <td>0.357137</td>\n",
       "      <td>-0.800832</td>\n",
       "      <td>-0.069321</td>\n",
       "      <td>-0.384248</td>\n",
       "      <td>-0.563162</td>\n",
       "      <td>0.924080</td>\n",
       "      <td>1.791810</td>\n",
       "      <td>-2.666533</td>\n",
       "      <td>1.0</td>\n",
       "      <td>0.0</td>\n",
       "      <td>...</td>\n",
       "      <td>0.0</td>\n",
       "      <td>0.0</td>\n",
       "      <td>0.0</td>\n",
       "      <td>0.0</td>\n",
       "      <td>0.0</td>\n",
       "      <td>0.0</td>\n",
       "      <td>0.0</td>\n",
       "      <td>0.0</td>\n",
       "      <td>0.0</td>\n",
       "      <td>1</td>\n",
       "    </tr>\n",
       "    <tr>\n",
       "      <th>4</th>\n",
       "      <td>0.459450</td>\n",
       "      <td>-0.269821</td>\n",
       "      <td>-0.094445</td>\n",
       "      <td>1.745032</td>\n",
       "      <td>0.973844</td>\n",
       "      <td>-0.594695</td>\n",
       "      <td>1.791810</td>\n",
       "      <td>-0.442682</td>\n",
       "      <td>1.0</td>\n",
       "      <td>0.0</td>\n",
       "      <td>...</td>\n",
       "      <td>0.0</td>\n",
       "      <td>0.0</td>\n",
       "      <td>0.0</td>\n",
       "      <td>0.0</td>\n",
       "      <td>0.0</td>\n",
       "      <td>0.0</td>\n",
       "      <td>0.0</td>\n",
       "      <td>0.0</td>\n",
       "      <td>0.0</td>\n",
       "      <td>1</td>\n",
       "    </tr>\n",
       "  </tbody>\n",
       "</table>\n",
       "<p>5 rows × 10296 columns</p>\n",
       "</div>"
      ],
      "text/plain": [
       "       year  length_ft   beam_ft  numEngines   totalHP       zip  \\\n",
       "0  0.459450   0.367392 -0.046988   -0.384248 -0.022364  0.016842   \n",
       "1  0.050196  -0.588427 -0.278693   -0.384248 -0.349689 -1.443551   \n",
       "2  0.357137  -0.800832 -0.697436   -0.384248 -0.677015 -1.698533   \n",
       "3  0.357137  -0.800832 -0.069321   -0.384248 -0.563162  0.924080   \n",
       "4  0.459450  -0.269821 -0.094445    1.745032  0.973844 -0.594695   \n",
       "\n",
       "   created_month  created_year  type_power  type_sail  ...  state_VT state_WA  \\\n",
       "0      -0.624789      0.669243         1.0        0.0  ...                0.0   \n",
       "1       1.187661     -0.442682         1.0        0.0  ...                0.0   \n",
       "2       0.885586     -1.554608         1.0        0.0  ...                0.0   \n",
       "3       1.791810     -2.666533         1.0        0.0  ...                0.0   \n",
       "4       1.791810     -0.442682         1.0        0.0  ...                0.0   \n",
       "\n",
       "   state_VT state_WI  state_VT state_WV  state_WA^2  state_WA state_WI  \\\n",
       "0                0.0                0.0         0.0                0.0   \n",
       "1                0.0                0.0         0.0                0.0   \n",
       "2                0.0                0.0         0.0                0.0   \n",
       "3                0.0                0.0         0.0                0.0   \n",
       "4                0.0                0.0         0.0                0.0   \n",
       "\n",
       "   state_WA state_WV  state_WI^2  state_WI state_WV  state_WV^2  bias  \n",
       "0                0.0         0.0                0.0         0.0     1  \n",
       "1                0.0         0.0                0.0         0.0     1  \n",
       "2                0.0         0.0                0.0         0.0     1  \n",
       "3                0.0         0.0                0.0         0.0     1  \n",
       "4                0.0         0.0                0.0         0.0     1  \n",
       "\n",
       "[5 rows x 10296 columns]"
      ]
     },
     "execution_count": 12,
     "metadata": {},
     "output_type": "execute_result"
    }
   ],
   "source": [
    "poly = PolynomialFeatures(2,interaction_only=False,include_bias=False)\n",
    "Xe_train = poly.fit_transform(X_train)\n",
    "cols = poly.get_feature_names_out(X_train.columns)\n",
    "Xe_train = pd.DataFrame(Xe_train, columns=cols)\n",
    "# Xe_train = stnd.fit_transform(Xe_train)\n",
    "Xe_train['bias'] = 1\n",
    "print(Xe_train.shape)\n",
    "Xe_train.head()\n",
    "\n",
    "Xe_test = poly.fit_transform(X_test)\n",
    "cols = poly.get_feature_names_out(X_test.columns)\n",
    "Xe_test = pd.DataFrame(Xe_test, columns=cols)\n",
    "# Xe_test = stnd.transform(Xe_test)\n",
    "Xe_test['bias'] = 1\n",
    "Xe_test.head()"
   ]
  },
  {
   "cell_type": "markdown",
   "id": "8ff0d7d0",
   "metadata": {},
   "source": [
    "# Use Lasso for feature selection"
   ]
  },
  {
   "cell_type": "code",
   "execution_count": 13,
   "id": "f5d3ce85",
   "metadata": {},
   "outputs": [
    {
     "name": "stderr",
     "output_type": "stream",
     "text": [
      "C:\\Users\\schrocjq\\AppData\\Local\\anaconda3\\Lib\\site-packages\\sklearn\\linear_model\\_coordinate_descent.py:631: ConvergenceWarning: Objective did not converge. You might want to increase the number of iterations, check the scale of the features or consider increasing regularisation. Duality gap: 3.309e+11, tolerance: 1.426e+10\n",
      "  model = cd_fast.enet_coordinate_descent(\n",
      "C:\\Users\\schrocjq\\AppData\\Local\\anaconda3\\Lib\\site-packages\\sklearn\\linear_model\\_coordinate_descent.py:631: ConvergenceWarning: Objective did not converge. You might want to increase the number of iterations, check the scale of the features or consider increasing regularisation. Duality gap: 2.807e+10, tolerance: 1.330e+10\n",
      "  model = cd_fast.enet_coordinate_descent(\n",
      "C:\\Users\\schrocjq\\AppData\\Local\\anaconda3\\Lib\\site-packages\\sklearn\\linear_model\\_coordinate_descent.py:631: ConvergenceWarning: Objective did not converge. You might want to increase the number of iterations, check the scale of the features or consider increasing regularisation. Duality gap: 3.156e+11, tolerance: 1.426e+10\n",
      "  model = cd_fast.enet_coordinate_descent(\n",
      "C:\\Users\\schrocjq\\AppData\\Local\\anaconda3\\Lib\\site-packages\\sklearn\\linear_model\\_coordinate_descent.py:631: ConvergenceWarning: Objective did not converge. You might want to increase the number of iterations, check the scale of the features or consider increasing regularisation. Duality gap: 2.939e+10, tolerance: 1.330e+10\n",
      "  model = cd_fast.enet_coordinate_descent(\n",
      "C:\\Users\\schrocjq\\AppData\\Local\\anaconda3\\Lib\\site-packages\\sklearn\\linear_model\\_coordinate_descent.py:631: ConvergenceWarning: Objective did not converge. You might want to increase the number of iterations, check the scale of the features or consider increasing regularisation. Duality gap: 2.996e+11, tolerance: 1.426e+10\n",
      "  model = cd_fast.enet_coordinate_descent(\n",
      "C:\\Users\\schrocjq\\AppData\\Local\\anaconda3\\Lib\\site-packages\\sklearn\\linear_model\\_coordinate_descent.py:631: ConvergenceWarning: Objective did not converge. You might want to increase the number of iterations, check the scale of the features or consider increasing regularisation. Duality gap: 2.624e+10, tolerance: 1.330e+10\n",
      "  model = cd_fast.enet_coordinate_descent(\n"
     ]
    },
    {
     "name": "stdout",
     "output_type": "stream",
     "text": [
      "\n",
      "best alpha = {'alpha': 390}   valid R2 = 0.803\n"
     ]
    },
    {
     "name": "stderr",
     "output_type": "stream",
     "text": [
      "C:\\Users\\schrocjq\\AppData\\Local\\anaconda3\\Lib\\site-packages\\sklearn\\linear_model\\_coordinate_descent.py:631: ConvergenceWarning: Objective did not converge. You might want to increase the number of iterations, check the scale of the features or consider increasing regularisation. Duality gap: 1.844e+10, tolerance: 1.707e+10\n",
      "  model = cd_fast.enet_coordinate_descent(\n"
     ]
    }
   ],
   "source": [
    "# regularize\n",
    "grid = {'alpha':[380,390, 400]}\n",
    "lasso = Lasso()\n",
    "lassoCV = GridSearchCV(lasso,param_grid=grid,return_train_score=True)\n",
    "# lassoCV = cross_validate(lasso, return_train_score=True)\n",
    "lassoCV.fit(Xe_train,y_train)\n",
    "\n",
    "print()\n",
    "print('best alpha =',lassoCV.best_params_, '  valid R2 =',lassoCV.best_score_.round(3))"
   ]
  },
  {
   "cell_type": "markdown",
   "id": "c1e96399",
   "metadata": {},
   "source": [
    "# Show alpha optimization"
   ]
  },
  {
   "cell_type": "code",
   "execution_count": 17,
   "id": "2e1d15cb",
   "metadata": {},
   "outputs": [
    {
     "data": {
      "text/plain": [
       "length_ft boatClass_power-house           -72589.201454\n",
       "totalHP state_OH                          -40400.604071\n",
       "length_ft hullMaterial_aluminum           -31394.376608\n",
       "totalHP boatClass_power-expresscruiser    -28118.409778\n",
       "year boatClass_power-highperf             -19820.430516\n",
       "                                              ...      \n",
       "length_ft                                  58307.088272\n",
       "totalHP boatClass_power-mega               62066.984276\n",
       "totalHP boatClass_power-pilot              67923.304265\n",
       "year totalHP                               70016.246072\n",
       "condition_new fuelType_diesel             337539.533625\n",
       "Length: 10296, dtype: float64"
      ]
     },
     "execution_count": 17,
     "metadata": {},
     "output_type": "execute_result"
    },
    {
     "data": {
      "image/png": "[encoded data removed]",
      "text/plain": [
       "<Figure size 640x480 with 1 Axes>"
      ]
     },
     "metadata": {},
     "output_type": "display_data"
    }
   ],
   "source": [
    "results = pd.DataFrame()\n",
    "results['alpha'] = (grid['alpha'])\n",
    "results['train R2'] = lassoCV.cv_results_['mean_train_score']\n",
    "results['valid R2']  = lassoCV.cv_results_['mean_test_score']\n",
    "ax1 = results.plot.line(x='alpha',y='train R2')\n",
    "results.plot.line(x='alpha',y='valid R2',ax=ax1)\n",
    "\n",
    "lasso = lassoCV.best_estimator_\n",
    "coef = pd.Series(lasso.coef_,index=Xe_train.columns)\n",
    "coef.sort_values()"
   ]
  },
  {
   "cell_type": "markdown",
   "id": "f647d92b",
   "metadata": {},
   "source": [
    "# Lasso test R2"
   ]
  },
  {
   "cell_type": "code",
   "execution_count": 18,
   "id": "fb1830bc",
   "metadata": {},
   "outputs": [
    {
     "name": "stdout",
     "output_type": "stream",
     "text": [
      "Test R2:  0.8933933404661998\n"
     ]
    }
   ],
   "source": [
    "print('Test R2: ', lassoCV.score(Xe_test,y_test))"
   ]
  },
  {
   "cell_type": "markdown",
   "id": "e33334bf",
   "metadata": {},
   "source": [
    "# Use lasso to remove some features"
   ]
  },
  {
   "cell_type": "code",
   "execution_count": 19,
   "id": "34f53b24",
   "metadata": {},
   "outputs": [
    {
     "data": {
      "text/plain": [
       "year                                                  19497.090073\n",
       "length_ft                                             58307.088272\n",
       "numEngines                                            10739.325052\n",
       "totalHP                                               30681.331832\n",
       "year^2                                                13751.826602\n",
       "                                                         ...      \n",
       "condition_new fuelType_0                              -2545.380369\n",
       "condition_new fuelType_diesel                        337539.533625\n",
       "condition_new engineCategory_outboard                 -5902.681414\n",
       "fuelType_0 engineCategory_outboard                     -494.336627\n",
       "fuelType_gasoline engineCategory_inboard-outboard     -1211.686351\n",
       "Length: 105, dtype: float64"
      ]
     },
     "execution_count": 19,
     "metadata": {},
     "output_type": "execute_result"
    }
   ],
   "source": [
    "filtered_coef = coef.drop(coef[coef.apply(lambda x: (x < 0.0001) & (x > -0.0001))].index)\n",
    "filtered_coef"
   ]
  },
  {
   "cell_type": "markdown",
   "id": "0ddf23cf",
   "metadata": {},
   "source": [
    "# Optimize random forest for this set"
   ]
  },
  {
   "cell_type": "code",
   "execution_count": 51,
   "id": "9f38c405",
   "metadata": {},
   "outputs": [
    {
     "name": "stdout",
     "output_type": "stream",
     "text": [
      "\n",
      "         best B = {'max_depth': 35, 'n_estimators': 1000}\n",
      "  validation R2 = 0.836\n"
     ]
    }
   ],
   "source": [
    "grid = {'max_depth':[10, 15, 20, 25, 30, 36], 'n_estimators':[1000, 2000, 4000]}\n",
    "\n",
    "rf = RandomForestRegressor(max_features = 1/3)\n",
    "rfCV = GridSearchCV(rf,param_grid=grid,return_train_score=True,n_jobs=-1)\n",
    "rfCV.fit(Xe_train[filtered_coef.index.to_list()],y_train)\n",
    "\n",
    "print()\n",
    "print('         best B =',rfCV.best_params_)\n",
    "print('  validation R2 =',rfCV.best_score_.round(3))"
   ]
  },
  {
   "cell_type": "markdown",
   "id": "22110bf8",
   "metadata": {},
   "source": [
    "# Show optimization"
   ]
  },
  {
   "cell_type": "code",
   "execution_count": 52,
   "id": "46d996c1",
   "metadata": {},
   "outputs": [
    {
     "name": "stdout",
     "output_type": "stream",
     "text": [
      "Random Forest Regressor\n",
      "     Optimal Parameters: {'max_depth': 35, 'n_estimators': 1000}\n",
      "     Optimal Valid R2: [0.83376515 0.83319948 0.83372836 0.83345102 0.8352056  0.83507313\n",
      " 0.83553269 0.83542648 0.83470991 0.83484015 0.8356651  0.83524596\n",
      " 0.83575646 0.83547657 0.83387846 0.83576162 0.83537717 0.83427672]\n"
     ]
    }
   ],
   "source": [
    "print('Random Forest Regressor')\n",
    "print('     Optimal Parameters:', rfCV.best_params_)\n",
    "print('     Optimal Valid R2:', rfCV.cv_results_['mean_test_score'])"
   ]
  },
  {
   "cell_type": "markdown",
   "id": "3cf10d41",
   "metadata": {},
   "source": [
    "# Calculate and Show test R2"
   ]
  },
  {
   "cell_type": "code",
   "execution_count": 53,
   "id": "5f88aae1",
   "metadata": {},
   "outputs": [
    {
     "name": "stdout",
     "output_type": "stream",
     "text": [
      "out-of-bag R2 = 0.842\n",
      "\n",
      "train R2 (CV) = 0.978   valid R2 = 0.834\n",
      "\n",
      "     train R2 = 0.979     test R2 = 0.932\n"
     ]
    }
   ],
   "source": [
    "# out-of-bag score\n",
    "rf = RandomForestRegressor(n_estimators=1000, max_depth=36, max_features = 1/3,oob_score=True)\n",
    "rf.fit(Xe_train[filtered_coef.index.to_list()],y_train)\n",
    "print('out-of-bag R2 =',rf.oob_score_.round(3))\n",
    "print()\n",
    "cv_results = cross_validate(rf,Xe_train[filtered_coef.index.to_list()],y_train,return_train_score=True)\n",
    "R2_trainCV = cv_results['train_score'].mean()\n",
    "R2_valid   = cv_results['test_score'].mean()\n",
    "print('train R2 (CV) =',R2_trainCV.round(3),'  valid R2 =',R2_valid.round(3))\n",
    "print()\n",
    "R2_train = rf.score(Xe_train[filtered_coef.index.to_list()],y_train)\n",
    "R2_test  = rf.score(Xe_test[filtered_coef.index.to_list()],y_test)\n",
    "print('     train R2 =',R2_train.round(3),'    test R2 =',R2_test.round(3))"
   ]
  },
  {
   "cell_type": "code",
   "execution_count": null,
   "id": "a1d3ea9b",
   "metadata": {},
   "outputs": [],
   "source": []
  },
  {
   "cell_type": "code",
   "execution_count": null,
   "id": "a311611d",
   "metadata": {},
   "outputs": [],
   "source": []
  }
 ],
 "metadata": {
  "kernelspec": {
   "display_name": "Python 3 (ipykernel)",
   "language": "python",
   "name": "python3"
  },
  "language_info": {
   "codemirror_mode": {
    "name": "ipython",
    "version": 3
   },
   "file_extension": ".py",
   "mimetype": "text/x-python",
   "name": "python",
   "nbconvert_exporter": "python",
   "pygments_lexer": "ipython3",
   "version": "3.11.7"
  }
 },
 "nbformat": 4,
 "nbformat_minor": 5
}
