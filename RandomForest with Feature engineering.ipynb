{
 "cells": [
  {
   "cell_type": "code",
   "execution_count": 1,
   "id": "cb3a2751",
   "metadata": {},
   "outputs": [],
   "source": [
    "import numpy as np\n",
    "import pandas as pd\n",
    "from sklearn.preprocessing import StandardScaler,PolynomialFeatures\n",
    "from sklearn.model_selection import cross_validate, train_test_split\n",
    "from sklearn.linear_model import LinearRegression\n",
    "from sklearn.model_selection import GridSearchCV\n",
    "from sklearn.linear_model import Ridge, RidgeCV, Lasso, LassoCV\n",
    "from sklearn.ensemble import RandomForestRegressor\n",
    "from sklearn.decomposition import PCA"
   ]
  },
  {
   "cell_type": "code",
   "execution_count": 2,
   "id": "94db727c",
   "metadata": {},
   "outputs": [],
   "source": [
    "# Get the preprocessed X and y from the data.\n",
    "def get_X_y():\n",
    "    # Read in data.\n",
    "    df = pd.read_csv('data/Boats_Cleaned_dataset.csv')\n",
    "    df = df.fillna(0)\n",
    "\n",
    "    # Delete selected rows with NaN.\n",
    "    df = df[pd.to_numeric(df['zip'], errors='coerce').notnull()]\n",
    "    df['zip'] = df['zip'].astype(int)\n",
    "    df = df.drop(df[df['zip']==0].index)\n",
    "    df = df.drop(df[df['engineCategory']==0].index)\n",
    "    df = df.drop(df[df['beam_ft']==0].index)\n",
    "    df = df.drop(df[df['totalHP']==0].index)\n",
    "\n",
    "    # Delete selected columns with NaN\n",
    "    df = df.drop(['Unnamed: 0','created_date','id','maxEngineYear','minEngineYear','dryWeight_lb', 'make', 'model','city','sellerId'],axis=1)\n",
    "\n",
    "    # Define features and target.\n",
    "    X0 = df.drop(['price'], axis=1)\n",
    "    y0 = df.price\n",
    "\n",
    "    # Standardize\n",
    "    X_n = X0.select_dtypes(include='number')\n",
    "    X_c = X0.select_dtypes(exclude='number')\n",
    "    X_n = StandardScaler().set_output(transform='pandas').fit_transform(X_n)\n",
    "\n",
    "    # Hot Encode\n",
    "    X_c = pd.get_dummies(X_c, drop_first = False) #dropped first\n",
    "    df = pd.concat([X_n,X_c,y0],axis=1)\n",
    "\n",
    "    # Redefine features and target\n",
    "    X = df.drop(['price'],axis=1)\n",
    "    y = df.price\n",
    "\n",
    "    return (X, y)"
   ]
  },
  {
   "cell_type": "code",
   "execution_count": 3,
   "id": "d511d4cc",
   "metadata": {},
   "outputs": [
    {
     "name": "stdout",
     "output_type": "stream",
     "text": [
      "(5752, 142)\n"
     ]
    }
   ],
   "source": [
    "X, y = get_X_y()\n",
    "print(X.shape)"
   ]
  },
  {
   "cell_type": "code",
   "execution_count": 4,
   "id": "c73b3c08",
   "metadata": {},
   "outputs": [],
   "source": [
    "X_train, X_test, y_train, y_test = train_test_split(X, y, train_size=0.8, test_size=0.2, random_state=0)\n",
    "\n",
    "# standardize features and convert back to dataframe\n",
    "stnd = StandardScaler().set_output(transform='pandas')\n",
    "X_train = stnd.fit_transform(X_train)\n",
    "X_test = stnd.transform(X_test)"
   ]
  },
  {
   "cell_type": "code",
   "execution_count": 5,
   "id": "6bc3ce9c",
   "metadata": {},
   "outputs": [
    {
     "name": "stdout",
     "output_type": "stream",
     "text": [
      "(4601, 10296)\n"
     ]
    },
    {
     "data": {
      "text/html": [
       "<div>\n",
       "<style scoped>\n",
       "    .dataframe tbody tr th:only-of-type {\n",
       "        vertical-align: middle;\n",
       "    }\n",
       "\n",
       "    .dataframe tbody tr th {\n",
       "        vertical-align: top;\n",
       "    }\n",
       "\n",
       "    .dataframe thead th {\n",
       "        text-align: right;\n",
       "    }\n",
       "</style>\n",
       "<table border=\"1\" class=\"dataframe\">\n",
       "  <thead>\n",
       "    <tr style=\"text-align: right;\">\n",
       "      <th></th>\n",
       "      <th>year</th>\n",
       "      <th>length_ft</th>\n",
       "      <th>beam_ft</th>\n",
       "      <th>numEngines</th>\n",
       "      <th>totalHP</th>\n",
       "      <th>zip</th>\n",
       "      <th>created_month</th>\n",
       "      <th>created_year</th>\n",
       "      <th>type_power</th>\n",
       "      <th>type_sail</th>\n",
       "      <th>...</th>\n",
       "      <th>state_VT state_WA</th>\n",
       "      <th>state_VT state_WI</th>\n",
       "      <th>state_VT state_WV</th>\n",
       "      <th>state_WA^2</th>\n",
       "      <th>state_WA state_WI</th>\n",
       "      <th>state_WA state_WV</th>\n",
       "      <th>state_WI^2</th>\n",
       "      <th>state_WI state_WV</th>\n",
       "      <th>state_WV^2</th>\n",
       "      <th>bias</th>\n",
       "    </tr>\n",
       "  </thead>\n",
       "  <tbody>\n",
       "    <tr>\n",
       "      <th>0</th>\n",
       "      <td>0.458768</td>\n",
       "      <td>0.376058</td>\n",
       "      <td>-0.041683</td>\n",
       "      <td>-0.380039</td>\n",
       "      <td>-0.012794</td>\n",
       "      <td>0.022301</td>\n",
       "      <td>-0.628472</td>\n",
       "      <td>0.667715</td>\n",
       "      <td>0.136369</td>\n",
       "      <td>-0.136369</td>\n",
       "      <td>...</td>\n",
       "      <td>0.084683</td>\n",
       "      <td>0.086624</td>\n",
       "      <td>0.058608</td>\n",
       "      <td>-0.142047</td>\n",
       "      <td>0.235036</td>\n",
       "      <td>0.075386</td>\n",
       "      <td>-0.20061</td>\n",
       "      <td>0.076745</td>\n",
       "      <td>-0.039035</td>\n",
       "      <td>1</td>\n",
       "    </tr>\n",
       "    <tr>\n",
       "      <th>1</th>\n",
       "      <td>0.041492</td>\n",
       "      <td>-0.584421</td>\n",
       "      <td>-0.278216</td>\n",
       "      <td>-0.380039</td>\n",
       "      <td>-0.348558</td>\n",
       "      <td>-1.446401</td>\n",
       "      <td>1.185771</td>\n",
       "      <td>-0.436186</td>\n",
       "      <td>0.136369</td>\n",
       "      <td>-0.136369</td>\n",
       "      <td>...</td>\n",
       "      <td>0.084683</td>\n",
       "      <td>0.086624</td>\n",
       "      <td>0.058608</td>\n",
       "      <td>-0.142047</td>\n",
       "      <td>0.235036</td>\n",
       "      <td>0.075386</td>\n",
       "      <td>-0.20061</td>\n",
       "      <td>0.076745</td>\n",
       "      <td>-0.039035</td>\n",
       "      <td>1</td>\n",
       "    </tr>\n",
       "    <tr>\n",
       "      <th>2</th>\n",
       "      <td>0.354449</td>\n",
       "      <td>-0.797861</td>\n",
       "      <td>-0.705685</td>\n",
       "      <td>-0.380039</td>\n",
       "      <td>-0.684321</td>\n",
       "      <td>-1.702834</td>\n",
       "      <td>0.883397</td>\n",
       "      <td>-1.540087</td>\n",
       "      <td>0.136369</td>\n",
       "      <td>-0.136369</td>\n",
       "      <td>...</td>\n",
       "      <td>0.084683</td>\n",
       "      <td>0.086624</td>\n",
       "      <td>0.058608</td>\n",
       "      <td>-0.142047</td>\n",
       "      <td>0.235036</td>\n",
       "      <td>0.075386</td>\n",
       "      <td>-0.20061</td>\n",
       "      <td>0.076745</td>\n",
       "      <td>-0.039035</td>\n",
       "      <td>1</td>\n",
       "    </tr>\n",
       "    <tr>\n",
       "      <th>3</th>\n",
       "      <td>0.354449</td>\n",
       "      <td>-0.797861</td>\n",
       "      <td>-0.064482</td>\n",
       "      <td>-0.380039</td>\n",
       "      <td>-0.567534</td>\n",
       "      <td>0.934702</td>\n",
       "      <td>1.790519</td>\n",
       "      <td>-2.643988</td>\n",
       "      <td>0.136369</td>\n",
       "      <td>-0.136369</td>\n",
       "      <td>...</td>\n",
       "      <td>0.084683</td>\n",
       "      <td>0.086624</td>\n",
       "      <td>0.058608</td>\n",
       "      <td>-0.142047</td>\n",
       "      <td>0.235036</td>\n",
       "      <td>0.075386</td>\n",
       "      <td>-0.20061</td>\n",
       "      <td>0.076745</td>\n",
       "      <td>-0.039035</td>\n",
       "      <td>1</td>\n",
       "    </tr>\n",
       "    <tr>\n",
       "      <th>4</th>\n",
       "      <td>0.458768</td>\n",
       "      <td>-0.264262</td>\n",
       "      <td>-0.090130</td>\n",
       "      <td>1.752350</td>\n",
       "      <td>1.009094</td>\n",
       "      <td>-0.592715</td>\n",
       "      <td>1.790519</td>\n",
       "      <td>-0.436186</td>\n",
       "      <td>0.136369</td>\n",
       "      <td>-0.136369</td>\n",
       "      <td>...</td>\n",
       "      <td>0.084683</td>\n",
       "      <td>0.086624</td>\n",
       "      <td>0.058608</td>\n",
       "      <td>-0.142047</td>\n",
       "      <td>0.235036</td>\n",
       "      <td>0.075386</td>\n",
       "      <td>-0.20061</td>\n",
       "      <td>0.076745</td>\n",
       "      <td>-0.039035</td>\n",
       "      <td>1</td>\n",
       "    </tr>\n",
       "  </tbody>\n",
       "</table>\n",
       "<p>5 rows × 10296 columns</p>\n",
       "</div>"
      ],
      "text/plain": [
       "       year  length_ft   beam_ft  numEngines   totalHP       zip  \\\n",
       "0  0.458768   0.376058 -0.041683   -0.380039 -0.012794  0.022301   \n",
       "1  0.041492  -0.584421 -0.278216   -0.380039 -0.348558 -1.446401   \n",
       "2  0.354449  -0.797861 -0.705685   -0.380039 -0.684321 -1.702834   \n",
       "3  0.354449  -0.797861 -0.064482   -0.380039 -0.567534  0.934702   \n",
       "4  0.458768  -0.264262 -0.090130    1.752350  1.009094 -0.592715   \n",
       "\n",
       "   created_month  created_year  type_power  type_sail  ...  state_VT state_WA  \\\n",
       "0      -0.628472      0.667715    0.136369  -0.136369  ...           0.084683   \n",
       "1       1.185771     -0.436186    0.136369  -0.136369  ...           0.084683   \n",
       "2       0.883397     -1.540087    0.136369  -0.136369  ...           0.084683   \n",
       "3       1.790519     -2.643988    0.136369  -0.136369  ...           0.084683   \n",
       "4       1.790519     -0.436186    0.136369  -0.136369  ...           0.084683   \n",
       "\n",
       "   state_VT state_WI  state_VT state_WV  state_WA^2  state_WA state_WI  \\\n",
       "0           0.086624           0.058608   -0.142047           0.235036   \n",
       "1           0.086624           0.058608   -0.142047           0.235036   \n",
       "2           0.086624           0.058608   -0.142047           0.235036   \n",
       "3           0.086624           0.058608   -0.142047           0.235036   \n",
       "4           0.086624           0.058608   -0.142047           0.235036   \n",
       "\n",
       "   state_WA state_WV  state_WI^2  state_WI state_WV  state_WV^2  bias  \n",
       "0           0.075386    -0.20061           0.076745   -0.039035     1  \n",
       "1           0.075386    -0.20061           0.076745   -0.039035     1  \n",
       "2           0.075386    -0.20061           0.076745   -0.039035     1  \n",
       "3           0.075386    -0.20061           0.076745   -0.039035     1  \n",
       "4           0.075386    -0.20061           0.076745   -0.039035     1  \n",
       "\n",
       "[5 rows x 10296 columns]"
      ]
     },
     "execution_count": 5,
     "metadata": {},
     "output_type": "execute_result"
    }
   ],
   "source": [
    "stnd = StandardScaler().set_output(transform='pandas')\n",
    "\n",
    "poly = PolynomialFeatures(2,interaction_only=False,include_bias=False)\n",
    "Xe_train = poly.fit_transform(X_train)\n",
    "cols = poly.get_feature_names_out(X_train.columns)\n",
    "Xe_train = pd.DataFrame(Xe_train, columns=cols)\n",
    "Xe_train = stnd.fit_transform(Xe_train)\n",
    "Xe_train['bias'] = 1\n",
    "print(Xe_train.shape)\n",
    "Xe_train.head()\n",
    "\n",
    "Xe_test = poly.fit_transform(X_test)\n",
    "cols = poly.get_feature_names_out(X_test.columns)\n",
    "Xe_test = pd.DataFrame(Xe_test, columns=cols)\n",
    "Xe_test = stnd.transform(Xe_test)\n",
    "Xe_test['bias'] = 1\n",
    "Xe_test.head()"
   ]
  },
  {
   "cell_type": "code",
   "execution_count": 6,
   "id": "e34c2bff",
   "metadata": {},
   "outputs": [
    {
     "name": "stderr",
     "output_type": "stream",
     "text": [
      "C:\\Users\\schrocjq\\AppData\\Local\\anaconda3\\Lib\\site-packages\\sklearn\\linear_model\\_coordinate_descent.py:631: ConvergenceWarning: Objective did not converge. You might want to increase the number of iterations, check the scale of the features or consider increasing regularisation. Duality gap: 4.668e+10, tolerance: 1.522e+10\n",
      "  model = cd_fast.enet_coordinate_descent(\n",
      "C:\\Users\\schrocjq\\AppData\\Local\\anaconda3\\Lib\\site-packages\\sklearn\\linear_model\\_coordinate_descent.py:631: ConvergenceWarning: Objective did not converge. You might want to increase the number of iterations, check the scale of the features or consider increasing regularisation. Duality gap: 1.651e+10, tolerance: 1.426e+10\n",
      "  model = cd_fast.enet_coordinate_descent(\n",
      "C:\\Users\\schrocjq\\AppData\\Local\\anaconda3\\Lib\\site-packages\\sklearn\\linear_model\\_coordinate_descent.py:631: ConvergenceWarning: Objective did not converge. You might want to increase the number of iterations, check the scale of the features or consider increasing regularisation. Duality gap: 1.075e+10, tolerance: 1.040e+10\n",
      "  model = cd_fast.enet_coordinate_descent(\n",
      "C:\\Users\\schrocjq\\AppData\\Local\\anaconda3\\Lib\\site-packages\\sklearn\\linear_model\\_coordinate_descent.py:631: ConvergenceWarning: Objective did not converge. You might want to increase the number of iterations, check the scale of the features or consider increasing regularisation. Duality gap: 4.330e+10, tolerance: 1.522e+10\n",
      "  model = cd_fast.enet_coordinate_descent(\n",
      "C:\\Users\\schrocjq\\AppData\\Local\\anaconda3\\Lib\\site-packages\\sklearn\\linear_model\\_coordinate_descent.py:631: ConvergenceWarning: Objective did not converge. You might want to increase the number of iterations, check the scale of the features or consider increasing regularisation. Duality gap: 1.830e+10, tolerance: 1.426e+10\n",
      "  model = cd_fast.enet_coordinate_descent(\n",
      "C:\\Users\\schrocjq\\AppData\\Local\\anaconda3\\Lib\\site-packages\\sklearn\\linear_model\\_coordinate_descent.py:631: ConvergenceWarning: Objective did not converge. You might want to increase the number of iterations, check the scale of the features or consider increasing regularisation. Duality gap: 4.155e+10, tolerance: 1.522e+10\n",
      "  model = cd_fast.enet_coordinate_descent(\n",
      "C:\\Users\\schrocjq\\AppData\\Local\\anaconda3\\Lib\\site-packages\\sklearn\\linear_model\\_coordinate_descent.py:631: ConvergenceWarning: Objective did not converge. You might want to increase the number of iterations, check the scale of the features or consider increasing regularisation. Duality gap: 1.775e+10, tolerance: 1.426e+10\n",
      "  model = cd_fast.enet_coordinate_descent(\n",
      "C:\\Users\\schrocjq\\AppData\\Local\\anaconda3\\Lib\\site-packages\\sklearn\\linear_model\\_coordinate_descent.py:631: ConvergenceWarning: Objective did not converge. You might want to increase the number of iterations, check the scale of the features or consider increasing regularisation. Duality gap: 3.378e+10, tolerance: 1.522e+10\n",
      "  model = cd_fast.enet_coordinate_descent(\n",
      "C:\\Users\\schrocjq\\AppData\\Local\\anaconda3\\Lib\\site-packages\\sklearn\\linear_model\\_coordinate_descent.py:631: ConvergenceWarning: Objective did not converge. You might want to increase the number of iterations, check the scale of the features or consider increasing regularisation. Duality gap: 1.961e+10, tolerance: 1.426e+10\n",
      "  model = cd_fast.enet_coordinate_descent(\n",
      "C:\\Users\\schrocjq\\AppData\\Local\\anaconda3\\Lib\\site-packages\\sklearn\\linear_model\\_coordinate_descent.py:631: ConvergenceWarning: Objective did not converge. You might want to increase the number of iterations, check the scale of the features or consider increasing regularisation. Duality gap: 1.624e+10, tolerance: 1.509e+10\n",
      "  model = cd_fast.enet_coordinate_descent(\n",
      "C:\\Users\\schrocjq\\AppData\\Local\\anaconda3\\Lib\\site-packages\\sklearn\\linear_model\\_coordinate_descent.py:631: ConvergenceWarning: Objective did not converge. You might want to increase the number of iterations, check the scale of the features or consider increasing regularisation. Duality gap: 2.576e+10, tolerance: 1.522e+10\n",
      "  model = cd_fast.enet_coordinate_descent(\n",
      "C:\\Users\\schrocjq\\AppData\\Local\\anaconda3\\Lib\\site-packages\\sklearn\\linear_model\\_coordinate_descent.py:631: ConvergenceWarning: Objective did not converge. You might want to increase the number of iterations, check the scale of the features or consider increasing regularisation. Duality gap: 2.350e+10, tolerance: 1.426e+10\n",
      "  model = cd_fast.enet_coordinate_descent(\n"
     ]
    },
    {
     "name": "stdout",
     "output_type": "stream",
     "text": [
      "\n",
      "best alpha = {'alpha': 1125}   valid R2 = 0.791\n"
     ]
    }
   ],
   "source": [
    "# regularize\n",
    "grid = {'alpha':[750, 875, 1000, 1125, 1250]}\n",
    "lasso = Lasso()\n",
    "lassoCV = GridSearchCV(lasso,param_grid=grid,return_train_score=True)\n",
    "lassoCV.fit(Xe_train,y_train)\n",
    "\n",
    "print()\n",
    "print('best alpha =',lassoCV.best_params_, '  valid R2 =',lassoCV.best_score_.round(3))"
   ]
  },
  {
   "cell_type": "code",
   "execution_count": 71,
   "id": "568d18fe",
   "metadata": {},
   "outputs": [
    {
     "data": {
      "text/plain": [
       "fuelType_0 fuelType_diesel      -14572.618421\n",
       "year type_power                 -14399.343041\n",
       "year condition_new              -14221.818518\n",
       "condition_new fuelType_0        -12226.271926\n",
       "length_ft fuelType_0            -11001.107559\n",
       "                                     ...     \n",
       "length_ft                        38695.714186\n",
       "totalHP                          52263.618201\n",
       "length_ft totalHP                53037.103746\n",
       "condition_new fuelType_diesel    55283.762719\n",
       "year totalHP                     69218.251155\n",
       "Length: 10296, dtype: float64"
      ]
     },
     "execution_count": 71,
     "metadata": {},
     "output_type": "execute_result"
    },
    {
     "data": {
      "image/png": "[encoded data removed]",
      "text/plain": [
       "<Figure size 640x480 with 1 Axes>"
      ]
     },
     "metadata": {},
     "output_type": "display_data"
    }
   ],
   "source": [
    "results = pd.DataFrame()\n",
    "results['alpha'] = np.log10(grid['alpha'])\n",
    "results['train R2'] = lassoCV.cv_results_['mean_train_score']\n",
    "results['valid R2']  = lassoCV.cv_results_['mean_test_score']\n",
    "ax1 = results.plot.line(x='alpha',y='train R2')\n",
    "results.plot.line(x='alpha',y='valid R2',ax=ax1)\n",
    "\n",
    "lasso = lassoCV.best_estimator_\n",
    "coef = pd.Series(lasso.coef_,index=Xe_train.columns)\n",
    "coef.sort_values()"
   ]
  },
  {
   "cell_type": "code",
   "execution_count": 72,
   "id": "02cfee5e",
   "metadata": {},
   "outputs": [
    {
     "name": "stdout",
     "output_type": "stream",
     "text": [
      "Test R2:  0.8880704733617638\n"
     ]
    }
   ],
   "source": [
    "print('Test R2: ', lassoCV.score(Xe_test,y_test))"
   ]
  },
  {
   "cell_type": "code",
   "execution_count": 80,
   "id": "215dc5af",
   "metadata": {},
   "outputs": [
    {
     "name": "stdout",
     "output_type": "stream",
     "text": [
      "\n",
      "         best B = {'n_estimators': 60}\n",
      "  validation R2 = 0.831\n"
     ]
    },
    {
     "data": {
      "text/plain": [
       "<Axes: xlabel='trees'>"
      ]
     },
     "execution_count": 80,
     "metadata": {},
     "output_type": "execute_result"
    },
    {
     "data": {
      "image/png": "[encoded data removed]",
      "text/plain": [
       "<Figure size 640x480 with 1 Axes>"
      ]
     },
     "metadata": {},
     "output_type": "display_data"
    }
   ],
   "source": [
    "B = np.arange(40,80,5)\n",
    "grid = {'n_estimators':B}\n",
    "\n",
    "rf = RandomForestRegressor(max_features = 1/3)\n",
    "rfCV = GridSearchCV(rf,param_grid=grid,return_train_score=True,n_jobs=-1)\n",
    "rfCV.fit(Xe_train,y_train)\n",
    "\n",
    "print()\n",
    "print('         best B =',rfCV.best_params_)\n",
    "print('  validation R2 =',rfCV.best_score_.round(3))\n",
    "\n",
    "results = pd.DataFrame()\n",
    "results['trees'] = grid['n_estimators']\n",
    "results['train R2'] = rfCV.cv_results_['mean_train_score']\n",
    "results['valid R2']  = rfCV.cv_results_['mean_test_score']\n",
    "results.plot.line(x='trees',y=['train R2','valid R2'])"
   ]
  },
  {
   "cell_type": "code",
   "execution_count": 81,
   "id": "d36ba80e",
   "metadata": {
    "scrolled": true
   },
   "outputs": [
    {
     "name": "stdout",
     "output_type": "stream",
     "text": [
      "out-of-bag R2 = 0.803\n",
      "\n",
      "train R2 (CV) = 0.972   valid R2 = 0.828\n",
      "\n",
      "     train R2 = 0.973      test  R2 = 0.886\n"
     ]
    }
   ],
   "source": [
    "# oob score\n",
    "rf = RandomForestRegressor(n_estimators=60,max_features = 1/3,oob_score=True)\n",
    "rf.fit(Xe_train,y_train)\n",
    "print('out-of-bag R2 =',rf.oob_score_.round(3))\n",
    "print()\n",
    "cv_results = cross_validate(rf,Xe_train,y_train,return_train_score=True)\n",
    "R2_trainCV = cv_results['train_score'].mean()\n",
    "R2_valid   = cv_results['test_score'].mean()\n",
    "print('train R2 (CV) =',R2_trainCV.round(3),'  valid R2 =',R2_valid.round(3))\n",
    "print()\n",
    "R2_train = rf.score(Xe_train,y_train)\n",
    "R2_test = rf.score(Xe_test, y_test)\n",
    "print('     train R2 =',R2_train.round(3),\n",
    "      '     test  R2 =', R2_test.round(3))"
   ]
  },
  {
   "cell_type": "code",
   "execution_count": 100,
   "id": "5bbf1108",
   "metadata": {},
   "outputs": [
    {
     "data": {
      "text/plain": [
       "year                 19799.068388\n",
       "length_ft            38695.714186\n",
       "beam_ft                208.655140\n",
       "numEngines            3249.527081\n",
       "totalHP              52263.618201\n",
       "                         ...     \n",
       "state_KY state_SC     -545.677114\n",
       "state_NJ state_NY      117.887456\n",
       "state_NY state_OH       45.121871\n",
       "state_NY state_WI      216.719189\n",
       "state_SC state_WA     -366.875920\n",
       "Length: 285, dtype: float64"
      ]
     },
     "execution_count": 100,
     "metadata": {},
     "output_type": "execute_result"
    }
   ],
   "source": [
    "filtered_coef = coef.drop(coef[coef.apply(lambda x: (x < 0.0001) & (x > -0.0001))].index)\n",
    "filtered_coef"
   ]
  },
  {
   "cell_type": "code",
   "execution_count": 101,
   "id": "4280fb72",
   "metadata": {},
   "outputs": [
    {
     "name": "stdout",
     "output_type": "stream",
     "text": [
      "out-of-bag R2 = 0.826\n",
      "\n"
     ]
    }
   ],
   "source": [
    "rf = RandomForestRegressor(n_estimators=60,max_features = 1/3,oob_score=True)\n",
    "rf.fit(Xe_train[filtered_coef.index.to_list()],y_train)\n",
    "print('out-of-bag R2 =',rf.oob_score_.round(3))\n",
    "print()"
   ]
  },
  {
   "cell_type": "code",
   "execution_count": 103,
   "id": "39425b68",
   "metadata": {},
   "outputs": [
    {
     "name": "stdout",
     "output_type": "stream",
     "text": [
      "TrainR2: 0.9735738317187799\n",
      "TestR2: 0.9292151000364743\n"
     ]
    }
   ],
   "source": [
    "print('TrainR2:', rf.score(Xe_train[filtered_coef.index.to_list()], y_train))\n",
    "print('TestR2:', rf.score(Xe_test[filtered_coef.index.to_list()], y_test))"
   ]
  },
  {
   "cell_type": "code",
   "execution_count": null,
   "id": "2d80d7c9",
   "metadata": {},
   "outputs": [],
   "source": []
  }
 ],
 "metadata": {
  "kernelspec": {
   "display_name": "Python 3 (ipykernel)",
   "language": "python",
   "name": "python3"
  },
  "language_info": {
   "codemirror_mode": {
    "name": "ipython",
    "version": 3
   },
   "file_extension": ".py",
   "mimetype": "text/x-python",
   "name": "python",
   "nbconvert_exporter": "python",
   "pygments_lexer": "ipython3",
   "version": "3.11.7"
  }
 },
 "nbformat": 4,
 "nbformat_minor": 5
}
