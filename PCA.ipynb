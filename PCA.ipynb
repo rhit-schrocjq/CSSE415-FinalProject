{
 "cells": [
  {
   "cell_type": "code",
   "execution_count": 55,
   "metadata": {},
   "outputs": [],
   "source": [
    "from data_preprocessing import get_X_y\n",
    "from sklearn.model_selection import train_test_split\n",
    "from sklearn.decomposition import PCA\n",
    "import pandas as pd\n",
    "from sklearn.linear_model import LinearRegression\n",
    "import matplotlib.pyplot as plt"
   ]
  },
  {
   "cell_type": "markdown",
   "metadata": {},
   "source": [
    "# Set up data"
   ]
  },
  {
   "cell_type": "code",
   "execution_count": 56,
   "metadata": {},
   "outputs": [
    {
     "data": {
      "text/html": [
       "<div>\n",
       "<style scoped>\n",
       "    .dataframe tbody tr th:only-of-type {\n",
       "        vertical-align: middle;\n",
       "    }\n",
       "\n",
       "    .dataframe tbody tr th {\n",
       "        vertical-align: top;\n",
       "    }\n",
       "\n",
       "    .dataframe thead th {\n",
       "        text-align: right;\n",
       "    }\n",
       "</style>\n",
       "<table border=\"1\" class=\"dataframe\">\n",
       "  <thead>\n",
       "    <tr style=\"text-align: right;\">\n",
       "      <th></th>\n",
       "      <th>year</th>\n",
       "      <th>length_ft</th>\n",
       "      <th>beam_ft</th>\n",
       "      <th>numEngines</th>\n",
       "      <th>totalHP</th>\n",
       "      <th>sellerId</th>\n",
       "      <th>created_month</th>\n",
       "      <th>created_year</th>\n",
       "      <th>type_sail</th>\n",
       "      <th>boatClass_power-aluminum</th>\n",
       "      <th>...</th>\n",
       "      <th>zip_98362</th>\n",
       "      <th>zip_98382</th>\n",
       "      <th>zip_98402</th>\n",
       "      <th>zip_98408</th>\n",
       "      <th>zip_98501</th>\n",
       "      <th>zip_98502</th>\n",
       "      <th>zip_98516</th>\n",
       "      <th>zip_99336</th>\n",
       "      <th>zip_99501</th>\n",
       "      <th>zip_99508</th>\n",
       "    </tr>\n",
       "  </thead>\n",
       "  <tbody>\n",
       "    <tr>\n",
       "      <th>0</th>\n",
       "      <td>-2.286818</td>\n",
       "      <td>-0.269861</td>\n",
       "      <td>-0.046811</td>\n",
       "      <td>-0.384842</td>\n",
       "      <td>-0.307611</td>\n",
       "      <td>2.845810</td>\n",
       "      <td>1.187498</td>\n",
       "      <td>0.669316</td>\n",
       "      <td>False</td>\n",
       "      <td>False</td>\n",
       "      <td>...</td>\n",
       "      <td>False</td>\n",
       "      <td>False</td>\n",
       "      <td>False</td>\n",
       "      <td>False</td>\n",
       "      <td>False</td>\n",
       "      <td>False</td>\n",
       "      <td>False</td>\n",
       "      <td>False</td>\n",
       "      <td>False</td>\n",
       "      <td>False</td>\n",
       "    </tr>\n",
       "    <tr>\n",
       "      <th>1</th>\n",
       "      <td>0.357858</td>\n",
       "      <td>1.747749</td>\n",
       "      <td>0.651431</td>\n",
       "      <td>1.744345</td>\n",
       "      <td>1.542000</td>\n",
       "      <td>-0.074647</td>\n",
       "      <td>0.885516</td>\n",
       "      <td>0.669316</td>\n",
       "      <td>False</td>\n",
       "      <td>False</td>\n",
       "      <td>...</td>\n",
       "      <td>False</td>\n",
       "      <td>False</td>\n",
       "      <td>False</td>\n",
       "      <td>False</td>\n",
       "      <td>False</td>\n",
       "      <td>False</td>\n",
       "      <td>False</td>\n",
       "      <td>False</td>\n",
       "      <td>False</td>\n",
       "      <td>False</td>\n",
       "    </tr>\n",
       "    <tr>\n",
       "      <th>2</th>\n",
       "      <td>0.561294</td>\n",
       "      <td>-0.588431</td>\n",
       "      <td>-0.348452</td>\n",
       "      <td>-0.384842</td>\n",
       "      <td>-0.521027</td>\n",
       "      <td>2.905252</td>\n",
       "      <td>1.489479</td>\n",
       "      <td>0.669316</td>\n",
       "      <td>False</td>\n",
       "      <td>False</td>\n",
       "      <td>...</td>\n",
       "      <td>False</td>\n",
       "      <td>False</td>\n",
       "      <td>False</td>\n",
       "      <td>False</td>\n",
       "      <td>False</td>\n",
       "      <td>False</td>\n",
       "      <td>False</td>\n",
       "      <td>False</td>\n",
       "      <td>False</td>\n",
       "      <td>False</td>\n",
       "    </tr>\n",
       "    <tr>\n",
       "      <th>3</th>\n",
       "      <td>0.052703</td>\n",
       "      <td>0.898229</td>\n",
       "      <td>0.464302</td>\n",
       "      <td>1.744345</td>\n",
       "      <td>0.972889</td>\n",
       "      <td>-0.233960</td>\n",
       "      <td>0.885516</td>\n",
       "      <td>0.669316</td>\n",
       "      <td>False</td>\n",
       "      <td>False</td>\n",
       "      <td>...</td>\n",
       "      <td>False</td>\n",
       "      <td>False</td>\n",
       "      <td>False</td>\n",
       "      <td>False</td>\n",
       "      <td>False</td>\n",
       "      <td>False</td>\n",
       "      <td>False</td>\n",
       "      <td>False</td>\n",
       "      <td>False</td>\n",
       "      <td>False</td>\n",
       "    </tr>\n",
       "    <tr>\n",
       "      <th>4</th>\n",
       "      <td>-2.083381</td>\n",
       "      <td>2.172508</td>\n",
       "      <td>1.768620</td>\n",
       "      <td>1.744345</td>\n",
       "      <td>1.257445</td>\n",
       "      <td>-0.519460</td>\n",
       "      <td>0.583534</td>\n",
       "      <td>-0.442995</td>\n",
       "      <td>False</td>\n",
       "      <td>False</td>\n",
       "      <td>...</td>\n",
       "      <td>False</td>\n",
       "      <td>False</td>\n",
       "      <td>False</td>\n",
       "      <td>False</td>\n",
       "      <td>False</td>\n",
       "      <td>False</td>\n",
       "      <td>False</td>\n",
       "      <td>False</td>\n",
       "      <td>False</td>\n",
       "      <td>False</td>\n",
       "    </tr>\n",
       "  </tbody>\n",
       "</table>\n",
       "<p>5 rows × 4134 columns</p>\n",
       "</div>"
      ],
      "text/plain": [
       "       year  length_ft   beam_ft  numEngines   totalHP  sellerId  \\\n",
       "0 -2.286818  -0.269861 -0.046811   -0.384842 -0.307611  2.845810   \n",
       "1  0.357858   1.747749  0.651431    1.744345  1.542000 -0.074647   \n",
       "2  0.561294  -0.588431 -0.348452   -0.384842 -0.521027  2.905252   \n",
       "3  0.052703   0.898229  0.464302    1.744345  0.972889 -0.233960   \n",
       "4 -2.083381   2.172508  1.768620    1.744345  1.257445 -0.519460   \n",
       "\n",
       "   created_month  created_year  type_sail  boatClass_power-aluminum  ...  \\\n",
       "0       1.187498      0.669316      False                     False  ...   \n",
       "1       0.885516      0.669316      False                     False  ...   \n",
       "2       1.489479      0.669316      False                     False  ...   \n",
       "3       0.885516      0.669316      False                     False  ...   \n",
       "4       0.583534     -0.442995      False                     False  ...   \n",
       "\n",
       "   zip_98362  zip_98382  zip_98402  zip_98408  zip_98501  zip_98502  \\\n",
       "0      False      False      False      False      False      False   \n",
       "1      False      False      False      False      False      False   \n",
       "2      False      False      False      False      False      False   \n",
       "3      False      False      False      False      False      False   \n",
       "4      False      False      False      False      False      False   \n",
       "\n",
       "   zip_98516  zip_99336  zip_99501  zip_99508  \n",
       "0      False      False      False      False  \n",
       "1      False      False      False      False  \n",
       "2      False      False      False      False  \n",
       "3      False      False      False      False  \n",
       "4      False      False      False      False  \n",
       "\n",
       "[5 rows x 4134 columns]"
      ]
     },
     "execution_count": 56,
     "metadata": {},
     "output_type": "execute_result"
    }
   ],
   "source": [
    "X, y = get_X_y()\n",
    "X.head()"
   ]
  },
  {
   "cell_type": "code",
   "execution_count": 57,
   "metadata": {},
   "outputs": [],
   "source": [
    "X_train,X_test,y_train,y_test = train_test_split(X, y, train_size=0.8, random_state=0)"
   ]
  },
  {
   "cell_type": "markdown",
   "metadata": {},
   "source": [
    "# Get number of components"
   ]
  },
  {
   "cell_type": "code",
   "execution_count": 58,
   "metadata": {},
   "outputs": [
    {
     "name": "stdout",
     "output_type": "stream",
     "text": [
      "number of components 18\n"
     ]
    }
   ],
   "source": [
    "n_comp = 18\n",
    "print('number of components', n_comp)"
   ]
  },
  {
   "cell_type": "code",
   "execution_count": 59,
   "metadata": {},
   "outputs": [],
   "source": [
    "cols = ['PC-'+str(i+1) for i in range(n_comp)]"
   ]
  },
  {
   "cell_type": "code",
   "execution_count": 60,
   "metadata": {},
   "outputs": [
    {
     "name": "stdout",
     "output_type": "stream",
     "text": [
      "PC-1     0.23\n",
      "PC-2     0.09\n",
      "PC-3     0.07\n",
      "PC-4     0.06\n",
      "PC-5     0.05\n",
      "PC-6     0.03\n",
      "PC-7     0.03\n",
      "PC-8     0.02\n",
      "PC-9     0.02\n",
      "PC-10    0.02\n",
      "PC-11    0.01\n",
      "PC-12    0.01\n",
      "PC-13    0.01\n",
      "PC-14    0.01\n",
      "PC-15    0.01\n",
      "PC-16    0.01\n",
      "PC-17    0.01\n",
      "PC-18    0.01\n",
      "dtype: float64\n"
     ]
    },
    {
     "data": {
      "text/plain": [
       "<Axes: title={'center': 'PVE'}>"
      ]
     },
     "execution_count": 60,
     "metadata": {},
     "output_type": "execute_result"
    },
    {
     "data": {
      "image/png": "[encoded data removed]",
      "text/plain": [
       "<Figure size 640x480 with 1 Axes>"
      ]
     },
     "metadata": {},
     "output_type": "display_data"
    }
   ],
   "source": [
    "pca = PCA(n_components=n_comp)\n",
    "pca.fit(X_train)\n",
    "PVE = pca.explained_variance_ratio_\n",
    "PVE = pd.Series(PVE,index=cols)\n",
    "print(PVE.round(2))\n",
    "PVE.sort_values().plot.barh(color='cyan',title='PVE')"
   ]
  },
  {
   "cell_type": "markdown",
   "metadata": {},
   "source": [
    "# Analyze Components"
   ]
  },
  {
   "cell_type": "code",
   "execution_count": 61,
   "metadata": {},
   "outputs": [
    {
     "data": {
      "text/plain": [
       "0.6888917891086485"
      ]
     },
     "execution_count": 61,
     "metadata": {},
     "output_type": "execute_result"
    }
   ],
   "source": [
    "sum(PVE)"
   ]
  },
  {
   "cell_type": "code",
   "execution_count": 62,
   "metadata": {},
   "outputs": [
    {
     "data": {
      "text/html": [
       "<div>\n",
       "<style scoped>\n",
       "    .dataframe tbody tr th:only-of-type {\n",
       "        vertical-align: middle;\n",
       "    }\n",
       "\n",
       "    .dataframe tbody tr th {\n",
       "        vertical-align: top;\n",
       "    }\n",
       "\n",
       "    .dataframe thead th {\n",
       "        text-align: right;\n",
       "    }\n",
       "</style>\n",
       "<table border=\"1\" class=\"dataframe\">\n",
       "  <thead>\n",
       "    <tr style=\"text-align: right;\">\n",
       "      <th></th>\n",
       "      <th>year</th>\n",
       "      <th>length_ft</th>\n",
       "      <th>beam_ft</th>\n",
       "      <th>numEngines</th>\n",
       "      <th>totalHP</th>\n",
       "      <th>sellerId</th>\n",
       "      <th>created_month</th>\n",
       "      <th>created_year</th>\n",
       "      <th>type_sail</th>\n",
       "      <th>boatClass_power-aluminum</th>\n",
       "      <th>...</th>\n",
       "      <th>zip_98362</th>\n",
       "      <th>zip_98382</th>\n",
       "      <th>zip_98402</th>\n",
       "      <th>zip_98408</th>\n",
       "      <th>zip_98501</th>\n",
       "      <th>zip_98502</th>\n",
       "      <th>zip_98516</th>\n",
       "      <th>zip_99336</th>\n",
       "      <th>zip_99501</th>\n",
       "      <th>zip_99508</th>\n",
       "    </tr>\n",
       "  </thead>\n",
       "  <tbody>\n",
       "    <tr>\n",
       "      <th>0</th>\n",
       "      <td>-0.326399</td>\n",
       "      <td>0.484109</td>\n",
       "      <td>0.369210</td>\n",
       "      <td>0.423757</td>\n",
       "      <td>0.465206</td>\n",
       "      <td>-0.025627</td>\n",
       "      <td>0.041114</td>\n",
       "      <td>-0.141552</td>\n",
       "      <td>0.011709</td>\n",
       "      <td>-0.036344</td>\n",
       "      <td>...</td>\n",
       "      <td>0.000117</td>\n",
       "      <td>0.000336</td>\n",
       "      <td>0.000126</td>\n",
       "      <td>-0.001629</td>\n",
       "      <td>0.000179</td>\n",
       "      <td>0.000053</td>\n",
       "      <td>-0.001016</td>\n",
       "      <td>-0.000607</td>\n",
       "      <td>-0.000062</td>\n",
       "      <td>-1.078062e-04</td>\n",
       "    </tr>\n",
       "    <tr>\n",
       "      <th>1</th>\n",
       "      <td>-0.072760</td>\n",
       "      <td>-0.088834</td>\n",
       "      <td>-0.143378</td>\n",
       "      <td>-0.030457</td>\n",
       "      <td>-0.099937</td>\n",
       "      <td>-0.043333</td>\n",
       "      <td>0.702376</td>\n",
       "      <td>-0.673290</td>\n",
       "      <td>0.005819</td>\n",
       "      <td>-0.004368</td>\n",
       "      <td>...</td>\n",
       "      <td>0.000146</td>\n",
       "      <td>-0.000364</td>\n",
       "      <td>0.000255</td>\n",
       "      <td>-0.000573</td>\n",
       "      <td>-0.000137</td>\n",
       "      <td>-0.000077</td>\n",
       "      <td>-0.001900</td>\n",
       "      <td>0.000068</td>\n",
       "      <td>-0.000129</td>\n",
       "      <td>4.362133e-07</td>\n",
       "    </tr>\n",
       "    <tr>\n",
       "      <th>2</th>\n",
       "      <td>-0.013369</td>\n",
       "      <td>0.028024</td>\n",
       "      <td>0.100802</td>\n",
       "      <td>-0.050512</td>\n",
       "      <td>-0.004648</td>\n",
       "      <td>0.978987</td>\n",
       "      <td>0.105420</td>\n",
       "      <td>0.021700</td>\n",
       "      <td>-0.002580</td>\n",
       "      <td>0.004410</td>\n",
       "      <td>...</td>\n",
       "      <td>0.000398</td>\n",
       "      <td>0.000134</td>\n",
       "      <td>-0.000092</td>\n",
       "      <td>0.000807</td>\n",
       "      <td>0.000118</td>\n",
       "      <td>0.000029</td>\n",
       "      <td>0.005129</td>\n",
       "      <td>-0.001452</td>\n",
       "      <td>0.000003</td>\n",
       "      <td>7.217938e-05</td>\n",
       "    </tr>\n",
       "    <tr>\n",
       "      <th>3</th>\n",
       "      <td>-0.754558</td>\n",
       "      <td>-0.096920</td>\n",
       "      <td>-0.174465</td>\n",
       "      <td>-0.274411</td>\n",
       "      <td>-0.266782</td>\n",
       "      <td>0.037560</td>\n",
       "      <td>-0.253339</td>\n",
       "      <td>-0.061231</td>\n",
       "      <td>0.044983</td>\n",
       "      <td>-0.019622</td>\n",
       "      <td>...</td>\n",
       "      <td>-0.000056</td>\n",
       "      <td>0.000741</td>\n",
       "      <td>0.000740</td>\n",
       "      <td>-0.002393</td>\n",
       "      <td>0.001169</td>\n",
       "      <td>0.000467</td>\n",
       "      <td>0.000158</td>\n",
       "      <td>-0.000603</td>\n",
       "      <td>-0.000017</td>\n",
       "      <td>-2.228918e-04</td>\n",
       "    </tr>\n",
       "    <tr>\n",
       "      <th>4</th>\n",
       "      <td>-0.075213</td>\n",
       "      <td>0.081181</td>\n",
       "      <td>0.744404</td>\n",
       "      <td>-0.422579</td>\n",
       "      <td>-0.265972</td>\n",
       "      <td>-0.131881</td>\n",
       "      <td>0.058623</td>\n",
       "      <td>-0.054345</td>\n",
       "      <td>0.038614</td>\n",
       "      <td>0.025784</td>\n",
       "      <td>...</td>\n",
       "      <td>0.000254</td>\n",
       "      <td>0.000519</td>\n",
       "      <td>0.000410</td>\n",
       "      <td>0.002199</td>\n",
       "      <td>0.000401</td>\n",
       "      <td>-0.000065</td>\n",
       "      <td>-0.001599</td>\n",
       "      <td>0.000758</td>\n",
       "      <td>-0.000021</td>\n",
       "      <td>3.656907e-04</td>\n",
       "    </tr>\n",
       "  </tbody>\n",
       "</table>\n",
       "<p>5 rows × 4134 columns</p>\n",
       "</div>"
      ],
      "text/plain": [
       "       year  length_ft   beam_ft  numEngines   totalHP  sellerId  \\\n",
       "0 -0.326399   0.484109  0.369210    0.423757  0.465206 -0.025627   \n",
       "1 -0.072760  -0.088834 -0.143378   -0.030457 -0.099937 -0.043333   \n",
       "2 -0.013369   0.028024  0.100802   -0.050512 -0.004648  0.978987   \n",
       "3 -0.754558  -0.096920 -0.174465   -0.274411 -0.266782  0.037560   \n",
       "4 -0.075213   0.081181  0.744404   -0.422579 -0.265972 -0.131881   \n",
       "\n",
       "   created_month  created_year  type_sail  boatClass_power-aluminum  ...  \\\n",
       "0       0.041114     -0.141552   0.011709                 -0.036344  ...   \n",
       "1       0.702376     -0.673290   0.005819                 -0.004368  ...   \n",
       "2       0.105420      0.021700  -0.002580                  0.004410  ...   \n",
       "3      -0.253339     -0.061231   0.044983                 -0.019622  ...   \n",
       "4       0.058623     -0.054345   0.038614                  0.025784  ...   \n",
       "\n",
       "   zip_98362  zip_98382  zip_98402  zip_98408  zip_98501  zip_98502  \\\n",
       "0   0.000117   0.000336   0.000126  -0.001629   0.000179   0.000053   \n",
       "1   0.000146  -0.000364   0.000255  -0.000573  -0.000137  -0.000077   \n",
       "2   0.000398   0.000134  -0.000092   0.000807   0.000118   0.000029   \n",
       "3  -0.000056   0.000741   0.000740  -0.002393   0.001169   0.000467   \n",
       "4   0.000254   0.000519   0.000410   0.002199   0.000401  -0.000065   \n",
       "\n",
       "   zip_98516  zip_99336  zip_99501     zip_99508  \n",
       "0  -0.001016  -0.000607  -0.000062 -1.078062e-04  \n",
       "1  -0.001900   0.000068  -0.000129  4.362133e-07  \n",
       "2   0.005129  -0.001452   0.000003  7.217938e-05  \n",
       "3   0.000158  -0.000603  -0.000017 -2.228918e-04  \n",
       "4  -0.001599   0.000758  -0.000021  3.656907e-04  \n",
       "\n",
       "[5 rows x 4134 columns]"
      ]
     },
     "execution_count": 62,
     "metadata": {},
     "output_type": "execute_result"
    }
   ],
   "source": [
    "components = pd.DataFrame(pca.components_, columns=X.columns)\n",
    "components.head()"
   ]
  },
  {
   "cell_type": "markdown",
   "metadata": {},
   "source": [
    "## Analyze PC1"
   ]
  },
  {
   "cell_type": "code",
   "execution_count": 63,
   "metadata": {},
   "outputs": [],
   "source": [
    "# Sort the columns to have the most negative on the left and most positive to the right for PC1.\n",
    "pc1_components = components[components.iloc[0].sort_values().index]"
   ]
  },
  {
   "cell_type": "code",
   "execution_count": 64,
   "metadata": {},
   "outputs": [
    {
     "data": {
      "text/html": [
       "<div>\n",
       "<style scoped>\n",
       "    .dataframe tbody tr th:only-of-type {\n",
       "        vertical-align: middle;\n",
       "    }\n",
       "\n",
       "    .dataframe tbody tr th {\n",
       "        vertical-align: top;\n",
       "    }\n",
       "\n",
       "    .dataframe thead th {\n",
       "        text-align: right;\n",
       "    }\n",
       "</style>\n",
       "<table border=\"1\" class=\"dataframe\">\n",
       "  <thead>\n",
       "    <tr style=\"text-align: right;\">\n",
       "      <th></th>\n",
       "      <th>year</th>\n",
       "      <th>created_year</th>\n",
       "      <th>engineCategory_outboard</th>\n",
       "      <th>make_Tracker</th>\n",
       "      <th>state_FL</th>\n",
       "      <th>fuelType_diesel</th>\n",
       "      <th>engineCategory_inboard</th>\n",
       "      <th>hullMaterial_fiberglass</th>\n",
       "      <th>condition_used</th>\n",
       "      <th>beam_ft</th>\n",
       "      <th>numEngines</th>\n",
       "      <th>totalHP</th>\n",
       "      <th>length_ft</th>\n",
       "    </tr>\n",
       "  </thead>\n",
       "  <tbody>\n",
       "    <tr>\n",
       "      <th>0</th>\n",
       "      <td>-0.326399</td>\n",
       "      <td>-0.141552</td>\n",
       "      <td>-0.130459</td>\n",
       "      <td>-0.082359</td>\n",
       "      <td>0.066782</td>\n",
       "      <td>0.090203</td>\n",
       "      <td>0.112282</td>\n",
       "      <td>0.131304</td>\n",
       "      <td>0.152817</td>\n",
       "      <td>0.36921</td>\n",
       "      <td>0.423757</td>\n",
       "      <td>0.465206</td>\n",
       "      <td>0.484109</td>\n",
       "    </tr>\n",
       "  </tbody>\n",
       "</table>\n",
       "</div>"
      ],
      "text/plain": [
       "       year  created_year  engineCategory_outboard  make_Tracker  state_FL  \\\n",
       "0 -0.326399     -0.141552                -0.130459     -0.082359  0.066782   \n",
       "\n",
       "   fuelType_diesel  engineCategory_inboard  hullMaterial_fiberglass  \\\n",
       "0         0.090203                0.112282                 0.131304   \n",
       "\n",
       "   condition_used  beam_ft  numEngines   totalHP  length_ft  \n",
       "0        0.152817  0.36921    0.423757  0.465206   0.484109  "
      ]
     },
     "execution_count": 64,
     "metadata": {},
     "output_type": "execute_result"
    }
   ],
   "source": [
    "# Remove all columns that are closer to 0 than 0.05.\n",
    "columns_to_remove = pc1_components.columns[(pc1_components.iloc[0] > -0.05) & (pc1_components.iloc[0] < 0.05)]\n",
    "\n",
    "# Remove identified columns.\n",
    "pc1_components = pc1_components.drop(columns=columns_to_remove)\n",
    "pc1_components.head(1)"
   ]
  },
  {
   "cell_type": "code",
   "execution_count": 65,
   "metadata": {},
   "outputs": [
    {
     "data": {
      "text/plain": [
       "Index(['year', 'created_year', 'engineCategory_outboard', 'make_Tracker',\n",
       "       'state_FL', 'fuelType_diesel', 'engineCategory_inboard',\n",
       "       'hullMaterial_fiberglass', 'condition_used', 'beam_ft', 'numEngines',\n",
       "       'totalHP', 'length_ft'],\n",
       "      dtype='object')"
      ]
     },
     "execution_count": 65,
     "metadata": {},
     "output_type": "execute_result"
    }
   ],
   "source": [
    "pc1_components.columns"
   ]
  },
  {
   "cell_type": "markdown",
   "metadata": {},
   "source": [
    "## PC2 Analysis"
   ]
  },
  {
   "cell_type": "code",
   "execution_count": 66,
   "metadata": {},
   "outputs": [],
   "source": [
    "# Sort the columns to have the most negative on the left and most positive to the right for PC2.\n",
    "pc2_components = components[components.iloc[1].sort_values().index]"
   ]
  },
  {
   "cell_type": "code",
   "execution_count": 72,
   "metadata": {},
   "outputs": [
    {
     "data": {
      "text/plain": [
       "created_year     0.021700\n",
       "beam_ft          0.100802\n",
       "totalHP         -0.004648\n",
       "length_ft        0.028024\n",
       "year            -0.013369\n",
       "created_month    0.105420\n",
       "Name: 2, dtype: float64"
      ]
     },
     "execution_count": 72,
     "metadata": {},
     "output_type": "execute_result"
    }
   ],
   "source": [
    "columns_to_remove = pc2_components.columns[(pc2_components.iloc[1] > -0.05) & (pc2_components.iloc[1] < 0.05)]\n",
    "\n",
    "# Remove identified columns\n",
    "pc2_components = pc2_components.drop(columns=columns_to_remove)\n",
    "pc2_components.iloc[2]"
   ]
  },
  {
   "cell_type": "code",
   "execution_count": 68,
   "metadata": {},
   "outputs": [
    {
     "data": {
      "text/plain": [
       "Index(['created_year', 'beam_ft', 'totalHP', 'length_ft', 'year',\n",
       "       'created_month'],\n",
       "      dtype='object')"
      ]
     },
     "execution_count": 68,
     "metadata": {},
     "output_type": "execute_result"
    }
   ],
   "source": [
    "pc2_components.columns"
   ]
  },
  {
   "cell_type": "markdown",
   "metadata": {},
   "source": [
    "# Linear Regressor"
   ]
  },
  {
   "cell_type": "code",
   "execution_count": 69,
   "metadata": {},
   "outputs": [],
   "source": [
    "Z_train = pca.transform(X_train)\n",
    "Z_test = pca.transform(X_test)\n",
    "Z_train = pd.DataFrame(Z_train, columns=cols)\n",
    "Z_test = pd.DataFrame(Z_test, columns=cols)"
   ]
  },
  {
   "cell_type": "code",
   "execution_count": 70,
   "metadata": {},
   "outputs": [
    {
     "data": {
      "text/html": [
       "<style>#sk-container-id-4 {color: black;}#sk-container-id-4 pre{padding: 0;}#sk-container-id-4 div.sk-toggleable {background-color: white;}#sk-container-id-4 label.sk-toggleable__label {cursor: pointer;display: block;width: 100%;margin-bottom: 0;padding: 0.3em;box-sizing: border-box;text-align: center;}#sk-container-id-4 label.sk-toggleable__label-arrow:before {content: \"▸\";float: left;margin-right: 0.25em;color: #696969;}#sk-container-id-4 label.sk-toggleable__label-arrow:hover:before {color: black;}#sk-container-id-4 div.sk-estimator:hover label.sk-toggleable__label-arrow:before {color: black;}#sk-container-id-4 div.sk-toggleable__content {max-height: 0;max-width: 0;overflow: hidden;text-align: left;background-color: #f0f8ff;}#sk-container-id-4 div.sk-toggleable__content pre {margin: 0.2em;color: black;border-radius: 0.25em;background-color: #f0f8ff;}#sk-container-id-4 input.sk-toggleable__control:checked~div.sk-toggleable__content {max-height: 200px;max-width: 100%;overflow: auto;}#sk-container-id-4 input.sk-toggleable__control:checked~label.sk-toggleable__label-arrow:before {content: \"▾\";}#sk-container-id-4 div.sk-estimator input.sk-toggleable__control:checked~label.sk-toggleable__label {background-color: #d4ebff;}#sk-container-id-4 div.sk-label input.sk-toggleable__control:checked~label.sk-toggleable__label {background-color: #d4ebff;}#sk-container-id-4 input.sk-hidden--visually {border: 0;clip: rect(1px 1px 1px 1px);clip: rect(1px, 1px, 1px, 1px);height: 1px;margin: -1px;overflow: hidden;padding: 0;position: absolute;width: 1px;}#sk-container-id-4 div.sk-estimator {font-family: monospace;background-color: #f0f8ff;border: 1px dotted black;border-radius: 0.25em;box-sizing: border-box;margin-bottom: 0.5em;}#sk-container-id-4 div.sk-estimator:hover {background-color: #d4ebff;}#sk-container-id-4 div.sk-parallel-item::after {content: \"\";width: 100%;border-bottom: 1px solid gray;flex-grow: 1;}#sk-container-id-4 div.sk-label:hover label.sk-toggleable__label {background-color: #d4ebff;}#sk-container-id-4 div.sk-serial::before {content: \"\";position: absolute;border-left: 1px solid gray;box-sizing: border-box;top: 0;bottom: 0;left: 50%;z-index: 0;}#sk-container-id-4 div.sk-serial {display: flex;flex-direction: column;align-items: center;background-color: white;padding-right: 0.2em;padding-left: 0.2em;position: relative;}#sk-container-id-4 div.sk-item {position: relative;z-index: 1;}#sk-container-id-4 div.sk-parallel {display: flex;align-items: stretch;justify-content: center;background-color: white;position: relative;}#sk-container-id-4 div.sk-item::before, #sk-container-id-4 div.sk-parallel-item::before {content: \"\";position: absolute;border-left: 1px solid gray;box-sizing: border-box;top: 0;bottom: 0;left: 50%;z-index: -1;}#sk-container-id-4 div.sk-parallel-item {display: flex;flex-direction: column;z-index: 1;position: relative;background-color: white;}#sk-container-id-4 div.sk-parallel-item:first-child::after {align-self: flex-end;width: 50%;}#sk-container-id-4 div.sk-parallel-item:last-child::after {align-self: flex-start;width: 50%;}#sk-container-id-4 div.sk-parallel-item:only-child::after {width: 0;}#sk-container-id-4 div.sk-dashed-wrapped {border: 1px dashed gray;margin: 0 0.4em 0.5em 0.4em;box-sizing: border-box;padding-bottom: 0.4em;background-color: white;}#sk-container-id-4 div.sk-label label {font-family: monospace;font-weight: bold;display: inline-block;line-height: 1.2em;}#sk-container-id-4 div.sk-label-container {text-align: center;}#sk-container-id-4 div.sk-container {/* jupyter's `normalize.less` sets `[hidden] { display: none; }` but bootstrap.min.css set `[hidden] { display: none !important; }` so we also need the `!important` here to be able to override the default hidden behavior on the sphinx rendered scikit-learn.org. See: https://github.com/scikit-learn/scikit-learn/issues/21755 */display: inline-block !important;position: relative;}#sk-container-id-4 div.sk-text-repr-fallback {display: none;}</style><div id=\"sk-container-id-4\" class=\"sk-top-container\"><div class=\"sk-text-repr-fallback\"><pre>LinearRegression()</pre><b>In a Jupyter environment, please rerun this cell to show the HTML representation or trust the notebook. <br />On GitHub, the HTML representation is unable to render, please try loading this page with nbviewer.org.</b></div><div class=\"sk-container\" hidden><div class=\"sk-item\"><div class=\"sk-estimator sk-toggleable\"><input class=\"sk-toggleable__control sk-hidden--visually\" id=\"sk-estimator-id-4\" type=\"checkbox\" checked><label for=\"sk-estimator-id-4\" class=\"sk-toggleable__label sk-toggleable__label-arrow\">LinearRegression</label><div class=\"sk-toggleable__content\"><pre>LinearRegression()</pre></div></div></div></div></div>"
      ],
      "text/plain": [
       "LinearRegression()"
      ]
     },
     "execution_count": 70,
     "metadata": {},
     "output_type": "execute_result"
    }
   ],
   "source": [
    "lr = LinearRegression()\n",
    "lr.fit(Z_train,y_train)"
   ]
  },
  {
   "cell_type": "code",
   "execution_count": 71,
   "metadata": {},
   "outputs": [
    {
     "name": "stdout",
     "output_type": "stream",
     "text": [
      "0.6480088150459331\n",
      "0.6616184291808455\n"
     ]
    }
   ],
   "source": [
    "print(lr.score(Z_train, y_train))\n",
    "print(lr.score(Z_test, y_test))"
   ]
  }
 ],
 "metadata": {
  "kernelspec": {
   "display_name": "Python 3 (ipykernel)",
   "language": "python",
   "name": "python3"
  },
  "language_info": {
   "codemirror_mode": {
    "name": "ipython",
    "version": 3
   },
   "file_extension": ".py",
   "mimetype": "text/x-python",
   "name": "python",
   "nbconvert_exporter": "python",
   "pygments_lexer": "ipython3",
   "version": "3.12.0"
  }
 },
 "nbformat": 4,
 "nbformat_minor": 2
}
